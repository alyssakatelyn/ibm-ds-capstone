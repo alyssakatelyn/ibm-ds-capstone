{
 "cells": [
  {
   "cell_type": "markdown",
   "metadata": {},
   "source": [
    "# Segmenting and Clustering Neighborhoods in Toronto"
   ]
  },
  {
   "cell_type": "markdown",
   "metadata": {},
   "source": [
    "## Scraping Wikipedia Table of Toronto Neighborhoods"
   ]
  },
  {
   "cell_type": "markdown",
   "metadata": {},
   "source": [
    "A web scraping code to get data from a wikipedia table"
   ]
  },
  {
   "cell_type": "code",
   "execution_count": 38,
   "metadata": {
    "jupyter": {
     "source_hidden": true
    }
   },
   "outputs": [
    {
     "name": "stdout",
     "output_type": "stream",
     "text": [
      "Libraries imported.\n"
     ]
    }
   ],
   "source": [
    "import numpy as np # library to handle data in a vectorized manner\n",
    "import pandas as pd # library for data analsysis\n",
    "pd.set_option('display.max_columns', None)\n",
    "pd.set_option('display.max_rows', None)\n",
    "import json # library to handle JSON files\n",
    "#!conda install -c conda-forge geopy --yes # uncomment this line if you haven't completed the Foursquare API lab\n",
    "from geopy.geocoders import Nominatim # convert an address into latitude and longitude values\n",
    "import requests # library to handle requests\n",
    "from pandas.io.json import json_normalize # tranform JSON file into a pandas dataframe\n",
    "# Matplotlib and associated plotting modules\n",
    "import matplotlib.cm as cm\n",
    "import matplotlib.colors as colors\n",
    "# import k-means from clustering stage\n",
    "from sklearn.cluster import KMeans\n",
    "from sklearn.datasets.samples_generator import make_blobs\n",
    "#!conda install -c conda-forge folium=0.5.0 --yes # uncomment this line if you haven't completed the Foursquare API lab\n",
    "import folium # map rendering library\n",
    "from bs4 import BeautifulSoup\n",
    "import lxml\n",
    "print('Libraries imported.')"
   ]
  },
  {
   "cell_type": "code",
   "execution_count": 1,
   "metadata": {
    "jupyter": {
     "source_hidden": true
    }
   },
   "outputs": [
    {
     "data": {
      "text/html": [
       "<div>\n",
       "<style scoped>\n",
       "    .dataframe tbody tr th:only-of-type {\n",
       "        vertical-align: middle;\n",
       "    }\n",
       "\n",
       "    .dataframe tbody tr th {\n",
       "        vertical-align: top;\n",
       "    }\n",
       "\n",
       "    .dataframe thead th {\n",
       "        text-align: right;\n",
       "    }\n",
       "</style>\n",
       "<table border=\"1\" class=\"dataframe\">\n",
       "  <thead>\n",
       "    <tr style=\"text-align: right;\">\n",
       "      <th></th>\n",
       "      <th>PostalCode</th>\n",
       "      <th>Borough</th>\n",
       "      <th>Neighborhood</th>\n",
       "    </tr>\n",
       "  </thead>\n",
       "  <tbody>\n",
       "  </tbody>\n",
       "</table>\n",
       "</div>"
      ],
      "text/plain": [
       "Empty DataFrame\n",
       "Columns: [PostalCode, Borough, Neighborhood]\n",
       "Index: []"
      ]
     },
     "execution_count": 1,
     "metadata": {},
     "output_type": "execute_result"
    },
    {
     "data": {
      "text/plain": [
       "103"
      ]
     },
     "execution_count": 1,
     "metadata": {},
     "output_type": "execute_result"
    }
   ],
   "source": [
    "import requests\n",
    "from bs4 import BeautifulSoup\n",
    "\n",
    "url = requests.get('https://en.wikipedia.org/wiki/List_of_postal_codes_of_Canada:_M').text\n",
    "\n",
    "soup = BeautifulSoup(url, 'html5lib')\n",
    "\n",
    "# initialize an empty dict to save the data in\n",
    "postal_codes_dict = {}\n",
    "\n",
    "for table_cell in soup.find_all('td'):\n",
    "    try:\n",
    "        postal_code = table_cell.p.b.text # gets the postal code\n",
    "        postal_code_investigate = table_cell.span.text\n",
    "        neighborhoods_data = table_cell.span.text # gets the rest\n",
    "        borough = neighborhoods_data.split('(')[0] # gets the borough in the cell\n",
    "        \n",
    "        # if the cell is not assigned then ignore it\n",
    "        if neighborhoods_data == 'Not assigned':\n",
    "            neighborhoods = []\n",
    "        # else process the data and add it to the dictionary\n",
    "        else:\n",
    "            postal_codes_dict[postal_code] = {}\n",
    "            \n",
    "            try:\n",
    "                neighborhoods = neighborhoods_data.split('(')[1]\n",
    "            \n",
    "                # remove parentheses\n",
    "                neighborhoods = neighborhoods.replace('(', ' ')\n",
    "                neighborhoods = neighborhoods.replace(')', ' ')\n",
    "\n",
    "                neighborhoods_names = neighborhoods.split('/')\n",
    "                neighborhoods_clean = ', '.join([name.strip() for name in neighborhoods_names])\n",
    "            except:\n",
    "                borough = borough.strip('\\n')\n",
    "                neighborhoods_clean = borough\n",
    " \n",
    "            # add borough and neighborhood to dictionary\n",
    "            postal_codes_dict[postal_code]['borough'] = borough\n",
    "            postal_codes_dict[postal_code]['neighborhoods'] = neighborhoods_clean\n",
    "    except:\n",
    "        pass\n",
    "    \n",
    "# create an empty dataframe\n",
    "columns = ['PostalCode', 'Borough', 'Neighborhood']\n",
    "df = pd.DataFrame(columns=columns)\n",
    "df\n",
    "\n",
    "# populate dataframe with data from dictionary\n",
    "for ind, postal_code in enumerate(postal_codes_dict):\n",
    "    borough = postal_codes_dict[postal_code]['borough']\n",
    "    neighborhood = postal_codes_dict[postal_code]['neighborhoods']\n",
    "    df = df.append({\"PostalCode\":postal_code, \"Borough\":borough, \n",
    "                                        \"Neighborhood\":neighborhood},\n",
    "                                        ignore_index=True)\n",
    "\n",
    "# print rows of dataframe\n",
    "df.shape[0]"
   ]
  },
  {
   "cell_type": "markdown",
   "metadata": {},
   "source": [
    "## Longitude and Latitude"
   ]
  },
  {
   "cell_type": "code",
   "execution_count": 2,
   "metadata": {
    "jupyter": {
     "source_hidden": true
    }
   },
   "outputs": [],
   "source": [
    "def get_geocode(postal_code):\n",
    "    # initialize your variable to None\n",
    "    lat_lng_coords = None\n",
    "    while(lat_lng_coords is None):\n",
    "        g = geocoder.google('{}, Toronto, Ontario'.format(postal_code))\n",
    "        lat_lng_coords = g.latlng\n",
    "    latitude = lat_lng_coords[0]\n",
    "    longitude = lat_lng_coords[1]\n",
    "    return latitude,longitude"
   ]
  },
  {
   "cell_type": "code",
   "execution_count": 3,
   "metadata": {
    "jupyter": {
     "source_hidden": true
    }
   },
   "outputs": [],
   "source": [
    "geo_df=pd.read_csv('http://cocl.us/Geospatial_data')"
   ]
  },
  {
   "cell_type": "code",
   "execution_count": 4,
   "metadata": {
    "jupyter": {
     "source_hidden": true
    }
   },
   "outputs": [
    {
     "data": {
      "text/html": [
       "<div>\n",
       "<style scoped>\n",
       "    .dataframe tbody tr th:only-of-type {\n",
       "        vertical-align: middle;\n",
       "    }\n",
       "\n",
       "    .dataframe tbody tr th {\n",
       "        vertical-align: top;\n",
       "    }\n",
       "\n",
       "    .dataframe thead th {\n",
       "        text-align: right;\n",
       "    }\n",
       "</style>\n",
       "<table border=\"1\" class=\"dataframe\">\n",
       "  <thead>\n",
       "    <tr style=\"text-align: right;\">\n",
       "      <th></th>\n",
       "      <th>Postal Code</th>\n",
       "      <th>Latitude</th>\n",
       "      <th>Longitude</th>\n",
       "    </tr>\n",
       "  </thead>\n",
       "  <tbody>\n",
       "    <tr>\n",
       "      <th>0</th>\n",
       "      <td>M1B</td>\n",
       "      <td>43.806686</td>\n",
       "      <td>-79.194353</td>\n",
       "    </tr>\n",
       "    <tr>\n",
       "      <th>1</th>\n",
       "      <td>M1C</td>\n",
       "      <td>43.784535</td>\n",
       "      <td>-79.160497</td>\n",
       "    </tr>\n",
       "    <tr>\n",
       "      <th>2</th>\n",
       "      <td>M1E</td>\n",
       "      <td>43.763573</td>\n",
       "      <td>-79.188711</td>\n",
       "    </tr>\n",
       "    <tr>\n",
       "      <th>3</th>\n",
       "      <td>M1G</td>\n",
       "      <td>43.770992</td>\n",
       "      <td>-79.216917</td>\n",
       "    </tr>\n",
       "    <tr>\n",
       "      <th>4</th>\n",
       "      <td>M1H</td>\n",
       "      <td>43.773136</td>\n",
       "      <td>-79.239476</td>\n",
       "    </tr>\n",
       "  </tbody>\n",
       "</table>\n",
       "</div>"
      ],
      "text/plain": [
       "  Postal Code   Latitude  Longitude\n",
       "0         M1B  43.806686 -79.194353\n",
       "1         M1C  43.784535 -79.160497\n",
       "2         M1E  43.763573 -79.188711\n",
       "3         M1G  43.770992 -79.216917\n",
       "4         M1H  43.773136 -79.239476"
      ]
     },
     "execution_count": 4,
     "metadata": {},
     "output_type": "execute_result"
    }
   ],
   "source": [
    "geo_df.head()"
   ]
  },
  {
   "cell_type": "code",
   "execution_count": 5,
   "metadata": {
    "jupyter": {
     "source_hidden": true
    }
   },
   "outputs": [],
   "source": [
    "geo_df.rename(columns={'Postal Code':'PostalCode'},inplace=True)\n",
    "geo_merged = pd.merge(geo_df, df, on='PostalCode')"
   ]
  },
  {
   "cell_type": "code",
   "execution_count": 6,
   "metadata": {
    "jupyter": {
     "source_hidden": true
    }
   },
   "outputs": [],
   "source": [
    "geo_data = geo_merged[['PostalCode','Borough','Neighborhood','Latitude','Longitude']]"
   ]
  },
  {
   "cell_type": "code",
   "execution_count": 7,
   "metadata": {},
   "outputs": [
    {
     "data": {
      "text/html": [
       "<div>\n",
       "<style scoped>\n",
       "    .dataframe tbody tr th:only-of-type {\n",
       "        vertical-align: middle;\n",
       "    }\n",
       "\n",
       "    .dataframe tbody tr th {\n",
       "        vertical-align: top;\n",
       "    }\n",
       "\n",
       "    .dataframe thead th {\n",
       "        text-align: right;\n",
       "    }\n",
       "</style>\n",
       "<table border=\"1\" class=\"dataframe\">\n",
       "  <thead>\n",
       "    <tr style=\"text-align: right;\">\n",
       "      <th></th>\n",
       "      <th>PostalCode</th>\n",
       "      <th>Borough</th>\n",
       "      <th>Neighborhood</th>\n",
       "      <th>Latitude</th>\n",
       "      <th>Longitude</th>\n",
       "    </tr>\n",
       "  </thead>\n",
       "  <tbody>\n",
       "    <tr>\n",
       "      <th>0</th>\n",
       "      <td>M1B</td>\n",
       "      <td>Scarborough</td>\n",
       "      <td>Malvern, Rouge</td>\n",
       "      <td>43.806686</td>\n",
       "      <td>-79.194353</td>\n",
       "    </tr>\n",
       "    <tr>\n",
       "      <th>1</th>\n",
       "      <td>M1C</td>\n",
       "      <td>Scarborough</td>\n",
       "      <td>Rouge Hill, Port Union, Highland Creek</td>\n",
       "      <td>43.784535</td>\n",
       "      <td>-79.160497</td>\n",
       "    </tr>\n",
       "    <tr>\n",
       "      <th>2</th>\n",
       "      <td>M1E</td>\n",
       "      <td>Scarborough</td>\n",
       "      <td>Guildwood, Morningside, West Hill</td>\n",
       "      <td>43.763573</td>\n",
       "      <td>-79.188711</td>\n",
       "    </tr>\n",
       "    <tr>\n",
       "      <th>3</th>\n",
       "      <td>M1G</td>\n",
       "      <td>Scarborough</td>\n",
       "      <td>Woburn</td>\n",
       "      <td>43.770992</td>\n",
       "      <td>-79.216917</td>\n",
       "    </tr>\n",
       "    <tr>\n",
       "      <th>4</th>\n",
       "      <td>M1H</td>\n",
       "      <td>Scarborough</td>\n",
       "      <td>Cedarbrae</td>\n",
       "      <td>43.773136</td>\n",
       "      <td>-79.239476</td>\n",
       "    </tr>\n",
       "    <tr>\n",
       "      <th>5</th>\n",
       "      <td>M1J</td>\n",
       "      <td>Scarborough</td>\n",
       "      <td>Scarborough Village</td>\n",
       "      <td>43.744734</td>\n",
       "      <td>-79.239476</td>\n",
       "    </tr>\n",
       "    <tr>\n",
       "      <th>6</th>\n",
       "      <td>M1K</td>\n",
       "      <td>Scarborough</td>\n",
       "      <td>Kennedy Park, Ionview, East Birchmount Park</td>\n",
       "      <td>43.727929</td>\n",
       "      <td>-79.262029</td>\n",
       "    </tr>\n",
       "    <tr>\n",
       "      <th>7</th>\n",
       "      <td>M1L</td>\n",
       "      <td>Scarborough</td>\n",
       "      <td>Golden Mile, Clairlea, Oakridge</td>\n",
       "      <td>43.711112</td>\n",
       "      <td>-79.284577</td>\n",
       "    </tr>\n",
       "    <tr>\n",
       "      <th>8</th>\n",
       "      <td>M1M</td>\n",
       "      <td>Scarborough</td>\n",
       "      <td>Cliffside, Cliffcrest, Scarborough Village West</td>\n",
       "      <td>43.716316</td>\n",
       "      <td>-79.239476</td>\n",
       "    </tr>\n",
       "    <tr>\n",
       "      <th>9</th>\n",
       "      <td>M1N</td>\n",
       "      <td>Scarborough</td>\n",
       "      <td>Birch Cliff, Cliffside West</td>\n",
       "      <td>43.692657</td>\n",
       "      <td>-79.264848</td>\n",
       "    </tr>\n",
       "  </tbody>\n",
       "</table>\n",
       "</div>"
      ],
      "text/plain": [
       "  PostalCode      Borough                                     Neighborhood  \\\n",
       "0        M1B  Scarborough                                   Malvern, Rouge   \n",
       "1        M1C  Scarborough           Rouge Hill, Port Union, Highland Creek   \n",
       "2        M1E  Scarborough                Guildwood, Morningside, West Hill   \n",
       "3        M1G  Scarborough                                           Woburn   \n",
       "4        M1H  Scarborough                                        Cedarbrae   \n",
       "5        M1J  Scarborough                              Scarborough Village   \n",
       "6        M1K  Scarborough      Kennedy Park, Ionview, East Birchmount Park   \n",
       "7        M1L  Scarborough                  Golden Mile, Clairlea, Oakridge   \n",
       "8        M1M  Scarborough  Cliffside, Cliffcrest, Scarborough Village West   \n",
       "9        M1N  Scarborough                      Birch Cliff, Cliffside West   \n",
       "\n",
       "    Latitude  Longitude  \n",
       "0  43.806686 -79.194353  \n",
       "1  43.784535 -79.160497  \n",
       "2  43.763573 -79.188711  \n",
       "3  43.770992 -79.216917  \n",
       "4  43.773136 -79.239476  \n",
       "5  43.744734 -79.239476  \n",
       "6  43.727929 -79.262029  \n",
       "7  43.711112 -79.284577  \n",
       "8  43.716316 -79.239476  \n",
       "9  43.692657 -79.264848  "
      ]
     },
     "execution_count": 7,
     "metadata": {},
     "output_type": "execute_result"
    }
   ],
   "source": [
    "geo_data.head(10)"
   ]
  },
  {
   "cell_type": "markdown",
   "metadata": {},
   "source": [
    "## Clustering"
   ]
  },
  {
   "cell_type": "code",
   "execution_count": 8,
   "metadata": {},
   "outputs": [],
   "source": [
    "CLIENT_ID = '4HDPC0Q3PCPNGGXEPUXW5TZ20V3BIW1RAF4FM52IVZPYGT1R' # Foursquare ID\n",
    "CLIENT_SECRET = 'CBTZLUBKWVFUJEGXEZTXVSWNXUNQQA3H1SCMF0HHI5324D0Q' # your Foursquare Secret\n",
    "VERSION = '20200323'"
   ]
  },
  {
   "cell_type": "code",
   "execution_count": 14,
   "metadata": {},
   "outputs": [
    {
     "data": {
      "text/plain": [
       "'Malvern, Rouge'"
      ]
     },
     "execution_count": 14,
     "metadata": {},
     "output_type": "execute_result"
    }
   ],
   "source": [
    "geo_data.loc[0, 'Neighborhood']"
   ]
  },
  {
   "cell_type": "code",
   "execution_count": 21,
   "metadata": {},
   "outputs": [],
   "source": [
    "LIMIT = 100 # limit of number of venues returned by Foursquare API\n",
    "radius = 500 # define radius"
   ]
  },
  {
   "cell_type": "code",
   "execution_count": 22,
   "metadata": {},
   "outputs": [],
   "source": [
    "def getNearbyVenues(names, latitudes, longitudes, radius=500):\n",
    "    \n",
    "    venues_list=[]\n",
    "    for name, lat, lng in zip(names, latitudes, longitudes):\n",
    "        print(name)\n",
    "            \n",
    "        # create the API request URL\n",
    "        url = 'https://api.foursquare.com/v2/venues/explore?&client_id={}&client_secret={}&v={}&ll={},{}&radius={}&limit={}'.format(\n",
    "            CLIENT_ID, \n",
    "            CLIENT_SECRET, \n",
    "            VERSION, \n",
    "            lat, \n",
    "            lng, \n",
    "            radius, \n",
    "            LIMIT)\n",
    "            \n",
    "        # make the GET request\n",
    "        results = requests.get(url).json()[\"response\"]['groups'][0]['items']\n",
    "        \n",
    "        # return only relevant information for each nearby venue\n",
    "        venues_list.append([(\n",
    "            name, \n",
    "            lat, \n",
    "            lng, \n",
    "            v['venue']['name'], \n",
    "            v['venue']['location']['lat'], \n",
    "            v['venue']['location']['lng'],  \n",
    "            v['venue']['categories'][0]['name']) for v in results])\n",
    "\n",
    "    nearby_venues = pd.DataFrame([item for venue_list in venues_list for item in venue_list])\n",
    "    nearby_venues.columns = ['Neighborhood', \n",
    "                  'Neighborhood Latitude', \n",
    "                  'Neighborhood Longitude', \n",
    "                  'Venue', \n",
    "                  'Venue Latitude', \n",
    "                  'Venue Longitude', \n",
    "                  'Venue Category']\n",
    "    \n",
    "    return(nearby_venues)"
   ]
  },
  {
   "cell_type": "code",
   "execution_count": 23,
   "metadata": {},
   "outputs": [
    {
     "name": "stdout",
     "output_type": "stream",
     "text": [
      "Malvern, Rouge\n",
      "Rouge Hill, Port Union, Highland Creek\n",
      "Guildwood, Morningside, West Hill\n",
      "Woburn\n",
      "Cedarbrae\n",
      "Scarborough Village\n",
      "Kennedy Park, Ionview, East Birchmount Park\n",
      "Golden Mile, Clairlea, Oakridge\n",
      "Cliffside, Cliffcrest, Scarborough Village West\n",
      "Birch Cliff, Cliffside West\n",
      "Dorset Park, Wexford Heights, Scarborough Town Centre\n",
      "Wexford, Maryvale\n",
      "Agincourt\n",
      "Clarks Corners, Tam O'Shanter, Sullivan\n",
      "Milliken, Agincourt North, Steeles East, L'Amoreaux East\n",
      "Steeles West, L'Amoreaux West\n",
      "Upper Rouge\n",
      "Hillcrest Village\n",
      "Fairview, Henry Farm, Oriole\n",
      "Bayview Village\n",
      "York Mills, Silver Hills\n",
      "Willowdale, Newtonbrook\n",
      "Willowdale South\n",
      "York Mills West\n",
      "Willowdale West\n",
      "Parkwoods\n",
      "Don Mills North\n",
      "Don Mills South\n",
      "Bathurst Manor, Wilson Heights, Downsview North\n",
      "Northwood Park, York University\n",
      "Downsview East\n",
      "Downsview West\n",
      "Downsview Central\n",
      "Downsview Northwest\n",
      "Victoria Village\n",
      "Parkview Hill, Woodbine Gardens\n",
      "Woodbine Heights\n",
      "The Beaches\n",
      "Leaside\n",
      "Thorncliffe Park\n",
      "The Danforth  East\n",
      "The Danforth West, Riverdale\n",
      "India Bazaar, The Beaches West\n",
      "Studio District\n",
      "Lawrence Park\n",
      "Davisville North\n",
      "North Toronto West\n",
      "Davisville\n",
      "Moore Park, Summerhill East\n",
      "Summerhill West, Rathnelly, South Hill, Forest Hill SE, Deer Park\n",
      "Rosedale\n",
      "St. James Town, Cabbagetown\n",
      "Church and Wellesley\n",
      "Regent Park, Harbourfront\n",
      "Garden District, Ryerson\n",
      "St. James Town\n",
      "Berczy Park\n",
      "Central Bay Street\n",
      "Richmond, Adelaide, King\n",
      "Harbourfront East, Union Station, Toronto Islands\n",
      "Toronto Dominion Centre, Design Exchange\n",
      "Commerce Court, Victoria Hotel\n",
      "Bedford Park, Lawrence Manor East\n",
      "Roselawn\n",
      "Forest Hill North & West\n",
      "The Annex, North Midtown, Yorkville\n",
      "University of Toronto, Harbord\n",
      "Kensington Market, Chinatown, Grange Park\n",
      "CN Tower, King and Spadina, Railway Lands, Harbourfront West, Bathurst Quay, South Niagara, Island airport\n",
      "Enclave of M5E\n",
      "First Canadian Place, Underground city\n",
      "Lawrence Manor, Lawrence Heights\n",
      "Glencairn\n",
      "Humewood-Cedarvale\n",
      "Caledonia-Fairbanks\n",
      "Christie\n",
      "Dufferin, Dovercourt Village\n",
      "Little Portugal, Trinity\n",
      "Brockton, Parkdale Village, Exhibition Place\n",
      "North Park, Maple Leaf Park, Upwood Park\n",
      "Del Ray, Mount Dennis, Keelsdale and Silverthorn\n",
      "Runnymede, The Junction North\n",
      "High Park, The Junction South\n",
      "Parkdale, Roncesvalles\n",
      "Runnymede, Swansea\n",
      "Queen's Park / Ontario Provincial Government\n",
      "Enclave of L4W\n",
      "Enclave of M4L\n",
      "New Toronto, Mimico South, Humber Bay Shores\n",
      "Alderwood, Long Branch\n",
      "The Kingsway, Montgomery Road, Old Mill North\n",
      "Old Mill South, King's Mill Park, Sunnylea, Humber Bay, Mimico NE, The Queensway East, Royal York South East, Kingsway Park South East\n",
      "Mimico NW, The Queensway West, South of Bloor, Kingsway Park South West, Royal York South West\n",
      "Islington Avenue\n",
      "West Deane Park, Princess Gardens, Martin Grove, Islington, Cloverdale\n",
      "Eringate, Bloordale Gardens, Old Burnhamthorpe, Markland Wood\n",
      "Humber Summit\n",
      "Humberlea, Emery\n",
      "Weston\n",
      "Westmount\n",
      "Kingsview Village, St. Phillips, Martin Grove Gardens, Richview Gardens\n",
      "South Steeles, Silverstone, Humbergate, Jamestown, Mount Olive, Beaumond Heights, Thistletown, Albion Gardens\n",
      "Clairville, Humberwood, Woodbine Downs, West Humber, Kipling Heights, Rexdale, Elms, Tandridge, Old Rexdale\n"
     ]
    }
   ],
   "source": [
    "toronto_venues = getNearbyVenues(names=geo_data['Neighborhood'],\n",
    "                                   latitudes=geo_data['Latitude'],\n",
    "                                   longitudes=geo_data['Longitude']\n",
    "                                  )"
   ]
  },
  {
   "cell_type": "code",
   "execution_count": 24,
   "metadata": {},
   "outputs": [
    {
     "data": {
      "text/html": [
       "<div>\n",
       "<style scoped>\n",
       "    .dataframe tbody tr th:only-of-type {\n",
       "        vertical-align: middle;\n",
       "    }\n",
       "\n",
       "    .dataframe tbody tr th {\n",
       "        vertical-align: top;\n",
       "    }\n",
       "\n",
       "    .dataframe thead th {\n",
       "        text-align: right;\n",
       "    }\n",
       "</style>\n",
       "<table border=\"1\" class=\"dataframe\">\n",
       "  <thead>\n",
       "    <tr style=\"text-align: right;\">\n",
       "      <th></th>\n",
       "      <th>Neighborhood</th>\n",
       "      <th>Neighborhood Latitude</th>\n",
       "      <th>Neighborhood Longitude</th>\n",
       "      <th>Venue</th>\n",
       "      <th>Venue Latitude</th>\n",
       "      <th>Venue Longitude</th>\n",
       "      <th>Venue Category</th>\n",
       "    </tr>\n",
       "  </thead>\n",
       "  <tbody>\n",
       "    <tr>\n",
       "      <th>0</th>\n",
       "      <td>Malvern, Rouge</td>\n",
       "      <td>43.806686</td>\n",
       "      <td>-79.194353</td>\n",
       "      <td>Wendy’s</td>\n",
       "      <td>43.807448</td>\n",
       "      <td>-79.199056</td>\n",
       "      <td>Fast Food Restaurant</td>\n",
       "    </tr>\n",
       "    <tr>\n",
       "      <th>1</th>\n",
       "      <td>Rouge Hill, Port Union, Highland Creek</td>\n",
       "      <td>43.784535</td>\n",
       "      <td>-79.160497</td>\n",
       "      <td>Royal Canadian Legion</td>\n",
       "      <td>43.782533</td>\n",
       "      <td>-79.163085</td>\n",
       "      <td>Bar</td>\n",
       "    </tr>\n",
       "    <tr>\n",
       "      <th>2</th>\n",
       "      <td>Guildwood, Morningside, West Hill</td>\n",
       "      <td>43.763573</td>\n",
       "      <td>-79.188711</td>\n",
       "      <td>G &amp; G Electronics</td>\n",
       "      <td>43.765309</td>\n",
       "      <td>-79.191537</td>\n",
       "      <td>Electronics Store</td>\n",
       "    </tr>\n",
       "    <tr>\n",
       "      <th>3</th>\n",
       "      <td>Guildwood, Morningside, West Hill</td>\n",
       "      <td>43.763573</td>\n",
       "      <td>-79.188711</td>\n",
       "      <td>Marina Spa</td>\n",
       "      <td>43.766000</td>\n",
       "      <td>-79.191000</td>\n",
       "      <td>Spa</td>\n",
       "    </tr>\n",
       "    <tr>\n",
       "      <th>4</th>\n",
       "      <td>Guildwood, Morningside, West Hill</td>\n",
       "      <td>43.763573</td>\n",
       "      <td>-79.188711</td>\n",
       "      <td>Big Bite Burrito</td>\n",
       "      <td>43.766299</td>\n",
       "      <td>-79.190720</td>\n",
       "      <td>Mexican Restaurant</td>\n",
       "    </tr>\n",
       "  </tbody>\n",
       "</table>\n",
       "</div>"
      ],
      "text/plain": [
       "                             Neighborhood  Neighborhood Latitude  \\\n",
       "0                          Malvern, Rouge              43.806686   \n",
       "1  Rouge Hill, Port Union, Highland Creek              43.784535   \n",
       "2       Guildwood, Morningside, West Hill              43.763573   \n",
       "3       Guildwood, Morningside, West Hill              43.763573   \n",
       "4       Guildwood, Morningside, West Hill              43.763573   \n",
       "\n",
       "   Neighborhood Longitude                  Venue  Venue Latitude  \\\n",
       "0              -79.194353                Wendy’s       43.807448   \n",
       "1              -79.160497  Royal Canadian Legion       43.782533   \n",
       "2              -79.188711      G & G Electronics       43.765309   \n",
       "3              -79.188711             Marina Spa       43.766000   \n",
       "4              -79.188711       Big Bite Burrito       43.766299   \n",
       "\n",
       "   Venue Longitude        Venue Category  \n",
       "0       -79.199056  Fast Food Restaurant  \n",
       "1       -79.163085                   Bar  \n",
       "2       -79.191537     Electronics Store  \n",
       "3       -79.191000                   Spa  \n",
       "4       -79.190720    Mexican Restaurant  "
      ]
     },
     "execution_count": 24,
     "metadata": {},
     "output_type": "execute_result"
    }
   ],
   "source": [
    "toronto_venues.head()"
   ]
  },
  {
   "cell_type": "code",
   "execution_count": 26,
   "metadata": {},
   "outputs": [
    {
     "data": {
      "text/html": [
       "<div>\n",
       "<style scoped>\n",
       "    .dataframe tbody tr th:only-of-type {\n",
       "        vertical-align: middle;\n",
       "    }\n",
       "\n",
       "    .dataframe tbody tr th {\n",
       "        vertical-align: top;\n",
       "    }\n",
       "\n",
       "    .dataframe thead th {\n",
       "        text-align: right;\n",
       "    }\n",
       "</style>\n",
       "<table border=\"1\" class=\"dataframe\">\n",
       "  <thead>\n",
       "    <tr style=\"text-align: right;\">\n",
       "      <th></th>\n",
       "      <th>Yoga Studio</th>\n",
       "      <th>Accessories Store</th>\n",
       "      <th>Afghan Restaurant</th>\n",
       "      <th>Airport</th>\n",
       "      <th>Airport Food Court</th>\n",
       "      <th>Airport Gate</th>\n",
       "      <th>Airport Lounge</th>\n",
       "      <th>Airport Service</th>\n",
       "      <th>Airport Terminal</th>\n",
       "      <th>American Restaurant</th>\n",
       "      <th>...</th>\n",
       "      <th>Trail</th>\n",
       "      <th>Train Station</th>\n",
       "      <th>Vegetarian / Vegan Restaurant</th>\n",
       "      <th>Video Game Store</th>\n",
       "      <th>Vietnamese Restaurant</th>\n",
       "      <th>Warehouse Store</th>\n",
       "      <th>Wine Bar</th>\n",
       "      <th>Wine Shop</th>\n",
       "      <th>Wings Joint</th>\n",
       "      <th>Women's Store</th>\n",
       "    </tr>\n",
       "  </thead>\n",
       "  <tbody>\n",
       "    <tr>\n",
       "      <th>0</th>\n",
       "      <td>0</td>\n",
       "      <td>0</td>\n",
       "      <td>0</td>\n",
       "      <td>0</td>\n",
       "      <td>0</td>\n",
       "      <td>0</td>\n",
       "      <td>0</td>\n",
       "      <td>0</td>\n",
       "      <td>0</td>\n",
       "      <td>0</td>\n",
       "      <td>...</td>\n",
       "      <td>0</td>\n",
       "      <td>0</td>\n",
       "      <td>0</td>\n",
       "      <td>0</td>\n",
       "      <td>0</td>\n",
       "      <td>0</td>\n",
       "      <td>0</td>\n",
       "      <td>0</td>\n",
       "      <td>0</td>\n",
       "      <td>0</td>\n",
       "    </tr>\n",
       "    <tr>\n",
       "      <th>1</th>\n",
       "      <td>0</td>\n",
       "      <td>0</td>\n",
       "      <td>0</td>\n",
       "      <td>0</td>\n",
       "      <td>0</td>\n",
       "      <td>0</td>\n",
       "      <td>0</td>\n",
       "      <td>0</td>\n",
       "      <td>0</td>\n",
       "      <td>0</td>\n",
       "      <td>...</td>\n",
       "      <td>0</td>\n",
       "      <td>0</td>\n",
       "      <td>0</td>\n",
       "      <td>0</td>\n",
       "      <td>0</td>\n",
       "      <td>0</td>\n",
       "      <td>0</td>\n",
       "      <td>0</td>\n",
       "      <td>0</td>\n",
       "      <td>0</td>\n",
       "    </tr>\n",
       "    <tr>\n",
       "      <th>2</th>\n",
       "      <td>0</td>\n",
       "      <td>0</td>\n",
       "      <td>0</td>\n",
       "      <td>0</td>\n",
       "      <td>0</td>\n",
       "      <td>0</td>\n",
       "      <td>0</td>\n",
       "      <td>0</td>\n",
       "      <td>0</td>\n",
       "      <td>0</td>\n",
       "      <td>...</td>\n",
       "      <td>0</td>\n",
       "      <td>0</td>\n",
       "      <td>0</td>\n",
       "      <td>0</td>\n",
       "      <td>0</td>\n",
       "      <td>0</td>\n",
       "      <td>0</td>\n",
       "      <td>0</td>\n",
       "      <td>0</td>\n",
       "      <td>0</td>\n",
       "    </tr>\n",
       "    <tr>\n",
       "      <th>3</th>\n",
       "      <td>0</td>\n",
       "      <td>0</td>\n",
       "      <td>0</td>\n",
       "      <td>0</td>\n",
       "      <td>0</td>\n",
       "      <td>0</td>\n",
       "      <td>0</td>\n",
       "      <td>0</td>\n",
       "      <td>0</td>\n",
       "      <td>0</td>\n",
       "      <td>...</td>\n",
       "      <td>0</td>\n",
       "      <td>0</td>\n",
       "      <td>0</td>\n",
       "      <td>0</td>\n",
       "      <td>0</td>\n",
       "      <td>0</td>\n",
       "      <td>0</td>\n",
       "      <td>0</td>\n",
       "      <td>0</td>\n",
       "      <td>0</td>\n",
       "    </tr>\n",
       "    <tr>\n",
       "      <th>4</th>\n",
       "      <td>0</td>\n",
       "      <td>0</td>\n",
       "      <td>0</td>\n",
       "      <td>0</td>\n",
       "      <td>0</td>\n",
       "      <td>0</td>\n",
       "      <td>0</td>\n",
       "      <td>0</td>\n",
       "      <td>0</td>\n",
       "      <td>0</td>\n",
       "      <td>...</td>\n",
       "      <td>0</td>\n",
       "      <td>0</td>\n",
       "      <td>0</td>\n",
       "      <td>0</td>\n",
       "      <td>0</td>\n",
       "      <td>0</td>\n",
       "      <td>0</td>\n",
       "      <td>0</td>\n",
       "      <td>0</td>\n",
       "      <td>0</td>\n",
       "    </tr>\n",
       "  </tbody>\n",
       "</table>\n",
       "<p>5 rows × 273 columns</p>\n",
       "</div>"
      ],
      "text/plain": [
       "   Yoga Studio  Accessories Store  Afghan Restaurant  Airport  \\\n",
       "0            0                  0                  0        0   \n",
       "1            0                  0                  0        0   \n",
       "2            0                  0                  0        0   \n",
       "3            0                  0                  0        0   \n",
       "4            0                  0                  0        0   \n",
       "\n",
       "   Airport Food Court  Airport Gate  Airport Lounge  Airport Service  \\\n",
       "0                   0             0               0                0   \n",
       "1                   0             0               0                0   \n",
       "2                   0             0               0                0   \n",
       "3                   0             0               0                0   \n",
       "4                   0             0               0                0   \n",
       "\n",
       "   Airport Terminal  American Restaurant  ...  Trail  Train Station  \\\n",
       "0                 0                    0  ...      0              0   \n",
       "1                 0                    0  ...      0              0   \n",
       "2                 0                    0  ...      0              0   \n",
       "3                 0                    0  ...      0              0   \n",
       "4                 0                    0  ...      0              0   \n",
       "\n",
       "   Vegetarian / Vegan Restaurant  Video Game Store  Vietnamese Restaurant  \\\n",
       "0                              0                 0                      0   \n",
       "1                              0                 0                      0   \n",
       "2                              0                 0                      0   \n",
       "3                              0                 0                      0   \n",
       "4                              0                 0                      0   \n",
       "\n",
       "   Warehouse Store  Wine Bar  Wine Shop  Wings Joint  Women's Store  \n",
       "0                0         0          0            0              0  \n",
       "1                0         0          0            0              0  \n",
       "2                0         0          0            0              0  \n",
       "3                0         0          0            0              0  \n",
       "4                0         0          0            0              0  \n",
       "\n",
       "[5 rows x 273 columns]"
      ]
     },
     "execution_count": 26,
     "metadata": {},
     "output_type": "execute_result"
    }
   ],
   "source": [
    "# one hot encoding\n",
    "toronto_onehot = pd.get_dummies(toronto_venues[['Venue Category']], prefix=\"\", prefix_sep=\"\")\n",
    "\n",
    "# add neighborhood column back to dataframe\n",
    "toronto_onehot['Neighborhood'] = toronto_venues['Neighborhood'] \n",
    "\n",
    "# move neighborhood column to the first column\n",
    "fixed_columns = [toronto_onehot.columns[-1]] + list(toronto_onehot.columns[:-1])\n",
    "toronto_onehot = toronto_onehot[fixed_columns]\n",
    "\n",
    "toronto_onehot.head()"
   ]
  },
  {
   "cell_type": "code",
   "execution_count": 27,
   "metadata": {},
   "outputs": [
    {
     "data": {
      "text/html": [
       "<div>\n",
       "<style scoped>\n",
       "    .dataframe tbody tr th:only-of-type {\n",
       "        vertical-align: middle;\n",
       "    }\n",
       "\n",
       "    .dataframe tbody tr th {\n",
       "        vertical-align: top;\n",
       "    }\n",
       "\n",
       "    .dataframe thead th {\n",
       "        text-align: right;\n",
       "    }\n",
       "</style>\n",
       "<table border=\"1\" class=\"dataframe\">\n",
       "  <thead>\n",
       "    <tr style=\"text-align: right;\">\n",
       "      <th></th>\n",
       "      <th>Neighborhood</th>\n",
       "      <th>Yoga Studio</th>\n",
       "      <th>Accessories Store</th>\n",
       "      <th>Afghan Restaurant</th>\n",
       "      <th>Airport</th>\n",
       "      <th>Airport Food Court</th>\n",
       "      <th>Airport Gate</th>\n",
       "      <th>Airport Lounge</th>\n",
       "      <th>Airport Service</th>\n",
       "      <th>Airport Terminal</th>\n",
       "      <th>...</th>\n",
       "      <th>Trail</th>\n",
       "      <th>Train Station</th>\n",
       "      <th>Vegetarian / Vegan Restaurant</th>\n",
       "      <th>Video Game Store</th>\n",
       "      <th>Vietnamese Restaurant</th>\n",
       "      <th>Warehouse Store</th>\n",
       "      <th>Wine Bar</th>\n",
       "      <th>Wine Shop</th>\n",
       "      <th>Wings Joint</th>\n",
       "      <th>Women's Store</th>\n",
       "    </tr>\n",
       "  </thead>\n",
       "  <tbody>\n",
       "    <tr>\n",
       "      <th>0</th>\n",
       "      <td>Agincourt</td>\n",
       "      <td>0.0</td>\n",
       "      <td>0.0</td>\n",
       "      <td>0.0</td>\n",
       "      <td>0.0</td>\n",
       "      <td>0.0</td>\n",
       "      <td>0.0</td>\n",
       "      <td>0.0</td>\n",
       "      <td>0.0</td>\n",
       "      <td>0.0</td>\n",
       "      <td>...</td>\n",
       "      <td>0.0</td>\n",
       "      <td>0.0</td>\n",
       "      <td>0.0</td>\n",
       "      <td>0.0</td>\n",
       "      <td>0.0</td>\n",
       "      <td>0.0</td>\n",
       "      <td>0.0</td>\n",
       "      <td>0.0</td>\n",
       "      <td>0.0</td>\n",
       "      <td>0.0</td>\n",
       "    </tr>\n",
       "    <tr>\n",
       "      <th>1</th>\n",
       "      <td>Alderwood, Long Branch</td>\n",
       "      <td>0.0</td>\n",
       "      <td>0.0</td>\n",
       "      <td>0.0</td>\n",
       "      <td>0.0</td>\n",
       "      <td>0.0</td>\n",
       "      <td>0.0</td>\n",
       "      <td>0.0</td>\n",
       "      <td>0.0</td>\n",
       "      <td>0.0</td>\n",
       "      <td>...</td>\n",
       "      <td>0.0</td>\n",
       "      <td>0.0</td>\n",
       "      <td>0.0</td>\n",
       "      <td>0.0</td>\n",
       "      <td>0.0</td>\n",
       "      <td>0.0</td>\n",
       "      <td>0.0</td>\n",
       "      <td>0.0</td>\n",
       "      <td>0.0</td>\n",
       "      <td>0.0</td>\n",
       "    </tr>\n",
       "    <tr>\n",
       "      <th>2</th>\n",
       "      <td>Bathurst Manor, Wilson Heights, Downsview North</td>\n",
       "      <td>0.0</td>\n",
       "      <td>0.0</td>\n",
       "      <td>0.0</td>\n",
       "      <td>0.0</td>\n",
       "      <td>0.0</td>\n",
       "      <td>0.0</td>\n",
       "      <td>0.0</td>\n",
       "      <td>0.0</td>\n",
       "      <td>0.0</td>\n",
       "      <td>...</td>\n",
       "      <td>0.0</td>\n",
       "      <td>0.0</td>\n",
       "      <td>0.0</td>\n",
       "      <td>0.0</td>\n",
       "      <td>0.0</td>\n",
       "      <td>0.0</td>\n",
       "      <td>0.0</td>\n",
       "      <td>0.0</td>\n",
       "      <td>0.0</td>\n",
       "      <td>0.0</td>\n",
       "    </tr>\n",
       "    <tr>\n",
       "      <th>3</th>\n",
       "      <td>Bayview Village</td>\n",
       "      <td>0.0</td>\n",
       "      <td>0.0</td>\n",
       "      <td>0.0</td>\n",
       "      <td>0.0</td>\n",
       "      <td>0.0</td>\n",
       "      <td>0.0</td>\n",
       "      <td>0.0</td>\n",
       "      <td>0.0</td>\n",
       "      <td>0.0</td>\n",
       "      <td>...</td>\n",
       "      <td>0.0</td>\n",
       "      <td>0.0</td>\n",
       "      <td>0.0</td>\n",
       "      <td>0.0</td>\n",
       "      <td>0.0</td>\n",
       "      <td>0.0</td>\n",
       "      <td>0.0</td>\n",
       "      <td>0.0</td>\n",
       "      <td>0.0</td>\n",
       "      <td>0.0</td>\n",
       "    </tr>\n",
       "    <tr>\n",
       "      <th>4</th>\n",
       "      <td>Bedford Park, Lawrence Manor East</td>\n",
       "      <td>0.0</td>\n",
       "      <td>0.0</td>\n",
       "      <td>0.0</td>\n",
       "      <td>0.0</td>\n",
       "      <td>0.0</td>\n",
       "      <td>0.0</td>\n",
       "      <td>0.0</td>\n",
       "      <td>0.0</td>\n",
       "      <td>0.0</td>\n",
       "      <td>...</td>\n",
       "      <td>0.0</td>\n",
       "      <td>0.0</td>\n",
       "      <td>0.0</td>\n",
       "      <td>0.0</td>\n",
       "      <td>0.0</td>\n",
       "      <td>0.0</td>\n",
       "      <td>0.0</td>\n",
       "      <td>0.0</td>\n",
       "      <td>0.0</td>\n",
       "      <td>0.0</td>\n",
       "    </tr>\n",
       "    <tr>\n",
       "      <th>...</th>\n",
       "      <td>...</td>\n",
       "      <td>...</td>\n",
       "      <td>...</td>\n",
       "      <td>...</td>\n",
       "      <td>...</td>\n",
       "      <td>...</td>\n",
       "      <td>...</td>\n",
       "      <td>...</td>\n",
       "      <td>...</td>\n",
       "      <td>...</td>\n",
       "      <td>...</td>\n",
       "      <td>...</td>\n",
       "      <td>...</td>\n",
       "      <td>...</td>\n",
       "      <td>...</td>\n",
       "      <td>...</td>\n",
       "      <td>...</td>\n",
       "      <td>...</td>\n",
       "      <td>...</td>\n",
       "      <td>...</td>\n",
       "      <td>...</td>\n",
       "    </tr>\n",
       "    <tr>\n",
       "      <th>95</th>\n",
       "      <td>Willowdale West</td>\n",
       "      <td>0.0</td>\n",
       "      <td>0.0</td>\n",
       "      <td>0.0</td>\n",
       "      <td>0.0</td>\n",
       "      <td>0.0</td>\n",
       "      <td>0.0</td>\n",
       "      <td>0.0</td>\n",
       "      <td>0.0</td>\n",
       "      <td>0.0</td>\n",
       "      <td>...</td>\n",
       "      <td>0.0</td>\n",
       "      <td>0.0</td>\n",
       "      <td>0.0</td>\n",
       "      <td>0.0</td>\n",
       "      <td>0.0</td>\n",
       "      <td>0.0</td>\n",
       "      <td>0.0</td>\n",
       "      <td>0.0</td>\n",
       "      <td>0.0</td>\n",
       "      <td>0.0</td>\n",
       "    </tr>\n",
       "    <tr>\n",
       "      <th>96</th>\n",
       "      <td>Woburn</td>\n",
       "      <td>0.0</td>\n",
       "      <td>0.0</td>\n",
       "      <td>0.0</td>\n",
       "      <td>0.0</td>\n",
       "      <td>0.0</td>\n",
       "      <td>0.0</td>\n",
       "      <td>0.0</td>\n",
       "      <td>0.0</td>\n",
       "      <td>0.0</td>\n",
       "      <td>...</td>\n",
       "      <td>0.0</td>\n",
       "      <td>0.0</td>\n",
       "      <td>0.0</td>\n",
       "      <td>0.0</td>\n",
       "      <td>0.0</td>\n",
       "      <td>0.0</td>\n",
       "      <td>0.0</td>\n",
       "      <td>0.0</td>\n",
       "      <td>0.0</td>\n",
       "      <td>0.0</td>\n",
       "    </tr>\n",
       "    <tr>\n",
       "      <th>97</th>\n",
       "      <td>Woodbine Heights</td>\n",
       "      <td>0.0</td>\n",
       "      <td>0.0</td>\n",
       "      <td>0.0</td>\n",
       "      <td>0.0</td>\n",
       "      <td>0.0</td>\n",
       "      <td>0.0</td>\n",
       "      <td>0.0</td>\n",
       "      <td>0.0</td>\n",
       "      <td>0.0</td>\n",
       "      <td>...</td>\n",
       "      <td>0.0</td>\n",
       "      <td>0.0</td>\n",
       "      <td>0.0</td>\n",
       "      <td>0.0</td>\n",
       "      <td>0.0</td>\n",
       "      <td>0.0</td>\n",
       "      <td>0.0</td>\n",
       "      <td>0.0</td>\n",
       "      <td>0.0</td>\n",
       "      <td>0.0</td>\n",
       "    </tr>\n",
       "    <tr>\n",
       "      <th>98</th>\n",
       "      <td>York Mills West</td>\n",
       "      <td>0.0</td>\n",
       "      <td>0.0</td>\n",
       "      <td>0.0</td>\n",
       "      <td>0.0</td>\n",
       "      <td>0.0</td>\n",
       "      <td>0.0</td>\n",
       "      <td>0.0</td>\n",
       "      <td>0.0</td>\n",
       "      <td>0.0</td>\n",
       "      <td>...</td>\n",
       "      <td>0.0</td>\n",
       "      <td>0.0</td>\n",
       "      <td>0.0</td>\n",
       "      <td>0.0</td>\n",
       "      <td>0.0</td>\n",
       "      <td>0.0</td>\n",
       "      <td>0.0</td>\n",
       "      <td>0.0</td>\n",
       "      <td>0.0</td>\n",
       "      <td>0.0</td>\n",
       "    </tr>\n",
       "    <tr>\n",
       "      <th>99</th>\n",
       "      <td>York Mills, Silver Hills</td>\n",
       "      <td>0.0</td>\n",
       "      <td>0.0</td>\n",
       "      <td>0.0</td>\n",
       "      <td>0.0</td>\n",
       "      <td>0.0</td>\n",
       "      <td>0.0</td>\n",
       "      <td>0.0</td>\n",
       "      <td>0.0</td>\n",
       "      <td>0.0</td>\n",
       "      <td>...</td>\n",
       "      <td>0.0</td>\n",
       "      <td>0.0</td>\n",
       "      <td>0.0</td>\n",
       "      <td>0.0</td>\n",
       "      <td>0.0</td>\n",
       "      <td>0.0</td>\n",
       "      <td>0.0</td>\n",
       "      <td>0.0</td>\n",
       "      <td>0.0</td>\n",
       "      <td>0.0</td>\n",
       "    </tr>\n",
       "  </tbody>\n",
       "</table>\n",
       "<p>100 rows × 273 columns</p>\n",
       "</div>"
      ],
      "text/plain": [
       "                                       Neighborhood  Yoga Studio  \\\n",
       "0                                         Agincourt          0.0   \n",
       "1                            Alderwood, Long Branch          0.0   \n",
       "2   Bathurst Manor, Wilson Heights, Downsview North          0.0   \n",
       "3                                   Bayview Village          0.0   \n",
       "4                 Bedford Park, Lawrence Manor East          0.0   \n",
       "..                                              ...          ...   \n",
       "95                                  Willowdale West          0.0   \n",
       "96                                           Woburn          0.0   \n",
       "97                                 Woodbine Heights          0.0   \n",
       "98                                  York Mills West          0.0   \n",
       "99                         York Mills, Silver Hills          0.0   \n",
       "\n",
       "    Accessories Store  Afghan Restaurant  Airport  Airport Food Court  \\\n",
       "0                 0.0                0.0      0.0                 0.0   \n",
       "1                 0.0                0.0      0.0                 0.0   \n",
       "2                 0.0                0.0      0.0                 0.0   \n",
       "3                 0.0                0.0      0.0                 0.0   \n",
       "4                 0.0                0.0      0.0                 0.0   \n",
       "..                ...                ...      ...                 ...   \n",
       "95                0.0                0.0      0.0                 0.0   \n",
       "96                0.0                0.0      0.0                 0.0   \n",
       "97                0.0                0.0      0.0                 0.0   \n",
       "98                0.0                0.0      0.0                 0.0   \n",
       "99                0.0                0.0      0.0                 0.0   \n",
       "\n",
       "    Airport Gate  Airport Lounge  Airport Service  Airport Terminal  ...  \\\n",
       "0            0.0             0.0              0.0               0.0  ...   \n",
       "1            0.0             0.0              0.0               0.0  ...   \n",
       "2            0.0             0.0              0.0               0.0  ...   \n",
       "3            0.0             0.0              0.0               0.0  ...   \n",
       "4            0.0             0.0              0.0               0.0  ...   \n",
       "..           ...             ...              ...               ...  ...   \n",
       "95           0.0             0.0              0.0               0.0  ...   \n",
       "96           0.0             0.0              0.0               0.0  ...   \n",
       "97           0.0             0.0              0.0               0.0  ...   \n",
       "98           0.0             0.0              0.0               0.0  ...   \n",
       "99           0.0             0.0              0.0               0.0  ...   \n",
       "\n",
       "    Trail  Train Station  Vegetarian / Vegan Restaurant  Video Game Store  \\\n",
       "0     0.0            0.0                            0.0               0.0   \n",
       "1     0.0            0.0                            0.0               0.0   \n",
       "2     0.0            0.0                            0.0               0.0   \n",
       "3     0.0            0.0                            0.0               0.0   \n",
       "4     0.0            0.0                            0.0               0.0   \n",
       "..    ...            ...                            ...               ...   \n",
       "95    0.0            0.0                            0.0               0.0   \n",
       "96    0.0            0.0                            0.0               0.0   \n",
       "97    0.0            0.0                            0.0               0.0   \n",
       "98    0.0            0.0                            0.0               0.0   \n",
       "99    0.0            0.0                            0.0               0.0   \n",
       "\n",
       "    Vietnamese Restaurant  Warehouse Store  Wine Bar  Wine Shop  Wings Joint  \\\n",
       "0                     0.0              0.0       0.0        0.0          0.0   \n",
       "1                     0.0              0.0       0.0        0.0          0.0   \n",
       "2                     0.0              0.0       0.0        0.0          0.0   \n",
       "3                     0.0              0.0       0.0        0.0          0.0   \n",
       "4                     0.0              0.0       0.0        0.0          0.0   \n",
       "..                    ...              ...       ...        ...          ...   \n",
       "95                    0.0              0.0       0.0        0.0          0.0   \n",
       "96                    0.0              0.0       0.0        0.0          0.0   \n",
       "97                    0.0              0.0       0.0        0.0          0.0   \n",
       "98                    0.0              0.0       0.0        0.0          0.0   \n",
       "99                    0.0              0.0       0.0        0.0          0.0   \n",
       "\n",
       "    Women's Store  \n",
       "0             0.0  \n",
       "1             0.0  \n",
       "2             0.0  \n",
       "3             0.0  \n",
       "4             0.0  \n",
       "..            ...  \n",
       "95            0.0  \n",
       "96            0.0  \n",
       "97            0.0  \n",
       "98            0.0  \n",
       "99            0.0  \n",
       "\n",
       "[100 rows x 273 columns]"
      ]
     },
     "execution_count": 27,
     "metadata": {},
     "output_type": "execute_result"
    }
   ],
   "source": [
    "toronto_grouped = toronto_onehot.groupby('Neighborhood').mean().reset_index()\n",
    "toronto_grouped"
   ]
  },
  {
   "cell_type": "code",
   "execution_count": 28,
   "metadata": {},
   "outputs": [
    {
     "name": "stdout",
     "output_type": "stream",
     "text": [
      "----Agincourt----\n",
      "                       venue  freq\n",
      "0  Latin American Restaurant   0.2\n",
      "1               Skating Rink   0.2\n",
      "2             Breakfast Spot   0.2\n",
      "3                     Lounge   0.2\n",
      "4             Clothing Store   0.2\n",
      "\n",
      "\n",
      "----Alderwood, Long Branch----\n",
      "            venue  freq\n",
      "0     Pizza Place  0.22\n",
      "1    Skating Rink  0.11\n",
      "2  Sandwich Place  0.11\n",
      "3             Gym  0.11\n",
      "4             Pub  0.11\n",
      "\n",
      "\n",
      "----Bathurst Manor, Wilson Heights, Downsview North----\n",
      "                       venue  freq\n",
      "0                       Bank  0.11\n",
      "1                Coffee Shop  0.11\n",
      "2                Bridal Shop  0.05\n",
      "3                Gas Station  0.05\n",
      "4  Middle Eastern Restaurant  0.05\n",
      "\n",
      "\n",
      "----Bayview Village----\n",
      "                 venue  freq\n",
      "0                 Café  0.25\n",
      "1                 Bank  0.25\n",
      "2   Chinese Restaurant  0.25\n",
      "3  Japanese Restaurant  0.25\n",
      "4    Mobile Phone Shop  0.00\n",
      "\n",
      "\n",
      "----Bedford Park, Lawrence Manor East----\n",
      "                venue  freq\n",
      "0  Italian Restaurant  0.12\n",
      "1      Sandwich Place  0.08\n",
      "2          Restaurant  0.08\n",
      "3         Coffee Shop  0.08\n",
      "4    Greek Restaurant  0.04\n",
      "\n",
      "\n",
      "----Berczy Park----\n",
      "                venue  freq\n",
      "0         Coffee Shop  0.09\n",
      "1         Cheese Shop  0.04\n",
      "2      Farmers Market  0.04\n",
      "3  Seafood Restaurant  0.04\n",
      "4                Café  0.04\n",
      "\n",
      "\n",
      "----Birch Cliff, Cliffside West----\n",
      "                   venue  freq\n",
      "0        College Stadium  0.25\n",
      "1                   Café  0.25\n",
      "2  General Entertainment  0.25\n",
      "3           Skating Rink  0.25\n",
      "4           Liquor Store  0.00\n",
      "\n",
      "\n",
      "----Brockton, Parkdale Village, Exhibition Place----\n",
      "            venue  freq\n",
      "0  Breakfast Spot  0.09\n",
      "1            Café  0.09\n",
      "2     Coffee Shop  0.09\n",
      "3   Grocery Store  0.05\n",
      "4    Climbing Gym  0.05\n",
      "\n",
      "\n",
      "----CN Tower, King and Spadina, Railway Lands, Harbourfront West, Bathurst Quay, South Niagara, Island airport----\n",
      "              venue  freq\n",
      "0    Airport Lounge  0.14\n",
      "1   Airport Service  0.14\n",
      "2   Harbor / Marina  0.07\n",
      "3  Airport Terminal  0.07\n",
      "4       Coffee Shop  0.07\n",
      "\n",
      "\n",
      "----Caledonia-Fairbanks----\n",
      "                venue  freq\n",
      "0                Park  0.50\n",
      "1              Market  0.25\n",
      "2       Women's Store  0.25\n",
      "3    Hakka Restaurant  0.00\n",
      "4  Light Rail Station  0.00\n",
      "\n",
      "\n",
      "----Cedarbrae----\n",
      "                  venue  freq\n",
      "0  Caribbean Restaurant  0.12\n",
      "1                Bakery  0.12\n",
      "2   Fried Chicken Joint  0.12\n",
      "3    Athletics & Sports  0.12\n",
      "4       Thai Restaurant  0.12\n",
      "\n",
      "\n",
      "----Central Bay Street----\n",
      "                 venue  freq\n",
      "0          Coffee Shop  0.17\n",
      "1   Italian Restaurant  0.05\n",
      "2         Burger Joint  0.04\n",
      "3       Ice Cream Shop  0.04\n",
      "4  Japanese Restaurant  0.04\n",
      "\n",
      "\n",
      "----Christie----\n",
      "                venue  freq\n",
      "0       Grocery Store  0.24\n",
      "1                Café  0.18\n",
      "2                Park  0.12\n",
      "3         Candy Store  0.06\n",
      "4  Italian Restaurant  0.06\n",
      "\n",
      "\n",
      "----Church and Wellesley----\n",
      "                 venue  freq\n",
      "0          Coffee Shop  0.08\n",
      "1  Japanese Restaurant  0.06\n",
      "2              Gay Bar  0.05\n",
      "3     Sushi Restaurant  0.03\n",
      "4           Restaurant  0.03\n",
      "\n",
      "\n",
      "----Clairville, Humberwood, Woodbine Downs, West Humber, Kipling Heights, Rexdale, Elms, Tandridge, Old Rexdale----\n",
      "                 venue  freq\n",
      "0  Rental Car Location   0.5\n",
      "1            Drugstore   0.5\n",
      "2               Market   0.0\n",
      "3   Mexican Restaurant   0.0\n",
      "4        Metro Station   0.0\n",
      "\n",
      "\n",
      "----Clarks Corners, Tam O'Shanter, Sullivan----\n",
      "                 venue  freq\n",
      "0          Pizza Place  0.14\n",
      "1        Shopping Mall  0.07\n",
      "2          Gas Station  0.07\n",
      "3  Fried Chicken Joint  0.07\n",
      "4         Intersection  0.07\n",
      "\n",
      "\n",
      "----Cliffside, Cliffcrest, Scarborough Village West----\n",
      "                 venue  freq\n",
      "0  American Restaurant  0.25\n",
      "1         Skating Rink  0.25\n",
      "2                Motel  0.25\n",
      "3        Movie Theater  0.25\n",
      "4               Market  0.00\n",
      "\n",
      "\n",
      "----Commerce Court, Victoria Hotel----\n",
      "                 venue  freq\n",
      "0          Coffee Shop  0.11\n",
      "1                 Café  0.07\n",
      "2           Restaurant  0.07\n",
      "3                Hotel  0.05\n",
      "4  American Restaurant  0.04\n",
      "\n",
      "\n",
      "----Davisville----\n",
      "            venue  freq\n",
      "0  Sandwich Place  0.09\n",
      "1     Pizza Place  0.09\n",
      "2    Dessert Shop  0.09\n",
      "3             Gym  0.06\n",
      "4            Café  0.06\n",
      "\n",
      "\n",
      "----Davisville North----\n",
      "               venue  freq\n",
      "0                Gym  0.12\n",
      "1              Hotel  0.12\n",
      "2     Breakfast Spot  0.12\n",
      "3     Sandwich Place  0.12\n",
      "4  Food & Drink Shop  0.12\n",
      "\n",
      "\n",
      "----Del Ray, Mount Dennis, Keelsdale and Silverthorn----\n",
      "                  venue  freq\n",
      "0  Fast Food Restaurant  0.25\n",
      "1          Skating Rink  0.25\n",
      "2        Discount Store  0.25\n",
      "3        Sandwich Place  0.25\n",
      "4           Yoga Studio  0.00\n",
      "\n",
      "\n",
      "----Don Mills North----\n",
      "                  venue  freq\n",
      "0                  Café   0.2\n",
      "1  Gym / Fitness Center   0.2\n",
      "2  Caribbean Restaurant   0.2\n",
      "3        Baseball Field   0.2\n",
      "4   Japanese Restaurant   0.2\n",
      "\n",
      "\n",
      "----Don Mills South----\n",
      "              venue  freq\n",
      "0       Coffee Shop  0.09\n",
      "1        Restaurant  0.09\n",
      "2               Gym  0.09\n",
      "3        Beer Store  0.09\n",
      "4  Asian Restaurant  0.09\n",
      "\n",
      "\n",
      "----Dorset Park, Wexford Heights, Scarborough Town Centre----\n",
      "                   venue  freq\n",
      "0      Indian Restaurant   0.4\n",
      "1              Pet Store   0.2\n",
      "2  Vietnamese Restaurant   0.2\n",
      "3     Chinese Restaurant   0.2\n",
      "4         Medical Center   0.0\n",
      "\n",
      "\n",
      "----Downsview Central----\n",
      "              venue  freq\n",
      "0  Business Service  0.25\n",
      "1        Food Truck  0.25\n",
      "2    Baseball Field  0.25\n",
      "3      Home Service  0.25\n",
      "4       Yoga Studio  0.00\n",
      "\n",
      "\n",
      "----Downsview East----\n",
      "                venue  freq\n",
      "0                Park   0.5\n",
      "1             Airport   0.5\n",
      "2              Market   0.0\n",
      "3  Mexican Restaurant   0.0\n",
      "4       Metro Station   0.0\n",
      "\n",
      "\n",
      "----Downsview Northwest----\n",
      "                venue  freq\n",
      "0       Grocery Store  0.25\n",
      "1  Athletics & Sports  0.25\n",
      "2        Liquor Store  0.25\n",
      "3         Coffee Shop  0.25\n",
      "4      Massage Studio  0.00\n",
      "\n",
      "\n",
      "----Downsview West----\n",
      "           venue  freq\n",
      "0  Grocery Store  0.33\n",
      "1           Bank  0.17\n",
      "2          Hotel  0.17\n",
      "3  Shopping Mall  0.17\n",
      "4           Park  0.17\n",
      "\n",
      "\n",
      "----Dufferin, Dovercourt Village----\n",
      "                       venue  freq\n",
      "0                   Pharmacy  0.11\n",
      "1                     Bakery  0.11\n",
      "2                Pizza Place  0.11\n",
      "3       Fast Food Restaurant  0.05\n",
      "4  Middle Eastern Restaurant  0.05\n",
      "\n",
      "\n",
      "----Enclave of L4W----\n",
      "                 venue  freq\n",
      "0         Intersection  0.15\n",
      "1                Hotel  0.15\n",
      "2          Coffee Shop  0.15\n",
      "3                  Gym  0.08\n",
      "4  American Restaurant  0.08\n",
      "\n",
      "\n",
      "----Enclave of M4L----\n",
      "           venue  freq\n",
      "0           Park  0.07\n",
      "1  Garden Center  0.07\n",
      "2    Pizza Place  0.07\n",
      "3     Restaurant  0.07\n",
      "4  Burrito Place  0.07\n",
      "\n",
      "\n",
      "----Enclave of M5E----\n",
      "                 venue  freq\n",
      "0          Coffee Shop  0.12\n",
      "1           Restaurant  0.04\n",
      "2   Seafood Restaurant  0.04\n",
      "3                 Café  0.04\n",
      "4  Japanese Restaurant  0.03\n",
      "\n",
      "\n",
      "----Eringate, Bloordale Gardens, Old Burnhamthorpe, Markland Wood----\n",
      "               venue  freq\n",
      "0       Liquor Store  0.11\n",
      "1  Convenience Store  0.11\n",
      "2        Coffee Shop  0.11\n",
      "3     Cosmetics Shop  0.11\n",
      "4        Pizza Place  0.11\n",
      "\n",
      "\n",
      "----Fairview, Henry Farm, Oriole----\n",
      "                  venue  freq\n",
      "0        Clothing Store  0.15\n",
      "1           Coffee Shop  0.07\n",
      "2  Fast Food Restaurant  0.06\n",
      "3         Women's Store  0.03\n",
      "4      Toy / Game Store  0.03\n",
      "\n",
      "\n",
      "----First Canadian Place, Underground city----\n",
      "              venue  freq\n",
      "0       Coffee Shop  0.12\n",
      "1              Café  0.07\n",
      "2        Restaurant  0.06\n",
      "3             Hotel  0.03\n",
      "4  Asian Restaurant  0.03\n",
      "\n",
      "\n",
      "----Forest Hill North & West----\n",
      "              venue  freq\n",
      "0              Park  0.25\n",
      "1  Sushi Restaurant  0.25\n",
      "2     Jewelry Store  0.25\n",
      "3             Trail  0.25\n",
      "4       Yoga Studio  0.00\n",
      "\n",
      "\n",
      "----Garden District, Ryerson----\n",
      "                 venue  freq\n",
      "0          Coffee Shop  0.10\n",
      "1       Clothing Store  0.08\n",
      "2                 Café  0.03\n",
      "3  Japanese Restaurant  0.03\n",
      "4       Cosmetics Shop  0.03\n",
      "\n",
      "\n",
      "----Glencairn----\n",
      "                 venue  freq\n",
      "0                 Park  0.25\n",
      "1                  Pub  0.25\n",
      "2     Sushi Restaurant  0.25\n",
      "3  Japanese Restaurant  0.25\n",
      "4          Yoga Studio  0.00\n",
      "\n",
      "\n",
      "----Golden Mile, Clairlea, Oakridge----\n",
      "            venue  freq\n",
      "0        Bus Line   0.2\n",
      "1          Bakery   0.2\n",
      "2    Soccer Field   0.1\n",
      "3  Ice Cream Shop   0.1\n",
      "4   Metro Station   0.1\n",
      "\n",
      "\n",
      "----Guildwood, Morningside, West Hill----\n",
      "                 venue  freq\n",
      "0       Medical Center  0.12\n",
      "1                  Spa  0.12\n",
      "2  Rental Car Location  0.12\n",
      "3       Breakfast Spot  0.12\n",
      "4    Electronics Store  0.12\n",
      "\n",
      "\n",
      "----Harbourfront East, Union Station, Toronto Islands----\n",
      "                venue  freq\n",
      "0         Coffee Shop  0.12\n",
      "1            Aquarium  0.05\n",
      "2                Café  0.04\n",
      "3               Hotel  0.04\n",
      "4  Italian Restaurant  0.04\n",
      "\n",
      "\n",
      "----High Park, The Junction South----\n",
      "                venue  freq\n",
      "0     Thai Restaurant  0.09\n",
      "1                 Bar  0.09\n",
      "2  Mexican Restaurant  0.09\n",
      "3                Café  0.09\n",
      "4           Speakeasy  0.04\n",
      "\n",
      "\n",
      "----Hillcrest Village----\n",
      "                      venue  freq\n",
      "0               Golf Course  0.25\n",
      "1  Mediterranean Restaurant  0.25\n",
      "2                      Pool  0.25\n",
      "3                   Dog Run  0.25\n",
      "4               Yoga Studio  0.00\n",
      "\n",
      "\n",
      "----Humber Summit----\n",
      "                 venue  freq\n",
      "0  Empanada Restaurant  0.33\n",
      "1        Shopping Mall  0.33\n",
      "2          Pizza Place  0.33\n",
      "3          Yoga Studio  0.00\n",
      "4               Market  0.00\n",
      "\n",
      "\n",
      "----Humberlea, Emery----\n",
      "                    venue  freq\n",
      "0  Furniture / Home Store   0.5\n",
      "1          Baseball Field   0.5\n",
      "2             Yoga Studio   0.0\n",
      "3      Miscellaneous Shop   0.0\n",
      "4      Mexican Restaurant   0.0\n",
      "\n",
      "\n",
      "----Humewood-Cedarvale----\n",
      "          venue  freq\n",
      "0  Hockey Arena  0.25\n",
      "1         Field  0.25\n",
      "2    Playground  0.25\n",
      "3         Trail  0.25\n",
      "4   Yoga Studio  0.00\n",
      "\n",
      "\n",
      "----India Bazaar, The Beaches West----\n",
      "              venue  freq\n",
      "0           Brewery  0.06\n",
      "1     Movie Theater  0.06\n",
      "2        Restaurant  0.06\n",
      "3  Sushi Restaurant  0.06\n",
      "4      Liquor Store  0.06\n",
      "\n",
      "\n",
      "----Kennedy Park, Ionview, East Birchmount Park----\n",
      "               venue  freq\n",
      "0     Discount Store  0.33\n",
      "1   Department Store  0.17\n",
      "2        Coffee Shop  0.17\n",
      "3  Convenience Store  0.17\n",
      "4         Hobby Shop  0.17\n",
      "\n",
      "\n",
      "----Kensington Market, Chinatown, Grange Park----\n",
      "                           venue  freq\n",
      "0                            Bar  0.07\n",
      "1                           Café  0.06\n",
      "2          Vietnamese Restaurant  0.06\n",
      "3  Vegetarian / Vegan Restaurant  0.04\n",
      "4                         Bakery  0.04\n",
      "\n",
      "\n",
      "----Kingsview Village, St. Phillips, Martin Grove Gardens, Richview Gardens----\n",
      "            venue  freq\n",
      "0            Park  0.33\n",
      "1     Pizza Place  0.33\n",
      "2  Sandwich Place  0.33\n",
      "3     Yoga Studio  0.00\n",
      "4          Market  0.00\n",
      "\n",
      "\n",
      "----Lawrence Manor, Lawrence Heights----\n",
      "                venue  freq\n",
      "0      Clothing Store  0.31\n",
      "1   Accessories Store  0.15\n",
      "2  Miscellaneous Shop  0.08\n",
      "3         Event Space  0.08\n",
      "4          Shoe Store  0.08\n",
      "\n",
      "\n",
      "----Lawrence Park----\n",
      "                  venue  freq\n",
      "0                  Park  0.25\n",
      "1           Swim School  0.25\n",
      "2              Bus Line  0.25\n",
      "3  Gym / Fitness Center  0.25\n",
      "4              Wine Bar  0.00\n",
      "\n",
      "\n",
      "----Leaside----\n",
      "                    venue  freq\n",
      "0  Furniture / Home Store  0.09\n",
      "1             Coffee Shop  0.09\n",
      "2     Sporting Goods Shop  0.09\n",
      "3            Burger Joint  0.06\n",
      "4                    Bank  0.06\n",
      "\n",
      "\n",
      "----Little Portugal, Trinity----\n",
      "              venue  freq\n",
      "0               Bar  0.13\n",
      "1       Coffee Shop  0.07\n",
      "2  Asian Restaurant  0.05\n",
      "3        Restaurant  0.05\n",
      "4       Men's Store  0.04\n",
      "\n",
      "\n",
      "----Malvern, Rouge----\n",
      "                  venue  freq\n",
      "0  Fast Food Restaurant   1.0\n",
      "1           Yoga Studio   0.0\n",
      "2                Market   0.0\n",
      "3    Mexican Restaurant   0.0\n",
      "4         Metro Station   0.0\n",
      "\n",
      "\n",
      "----Milliken, Agincourt North, Steeles East, L'Amoreaux East----\n",
      "            venue  freq\n",
      "0            Park  0.25\n",
      "1          Bakery  0.25\n",
      "2     Coffee Shop  0.25\n",
      "3      Playground  0.25\n",
      "4  Massage Studio  0.00\n",
      "\n",
      "\n",
      "----Mimico NW, The Queensway West, South of Bloor, Kingsway Park South West, Royal York South West----\n",
      "                  venue  freq\n",
      "0         Grocery Store  0.08\n",
      "1                Bakery  0.08\n",
      "2                   Gym  0.08\n",
      "3            Kids Store  0.08\n",
      "4  Fast Food Restaurant  0.08\n",
      "\n",
      "\n",
      "----Moore Park, Summerhill East----\n",
      "          venue  freq\n",
      "0           Gym  0.25\n",
      "1          Park  0.25\n",
      "2  Tennis Court  0.25\n",
      "3    Playground  0.25\n",
      "4        Market  0.00\n",
      "\n",
      "\n",
      "----New Toronto, Mimico South, Humber Bay Shores----\n",
      "                 venue  freq\n",
      "0            Pet Store  0.08\n",
      "1  American Restaurant  0.08\n",
      "2           Restaurant  0.08\n",
      "3         Liquor Store  0.08\n",
      "4                 Café  0.08\n",
      "\n",
      "\n",
      "----North Park, Maple Leaf Park, Upwood Park----\n",
      "                        venue  freq\n",
      "0                        Park  0.33\n",
      "1                      Bakery  0.33\n",
      "2  Construction & Landscaping  0.33\n",
      "3              Massage Studio  0.00\n",
      "4          Mexican Restaurant  0.00\n",
      "\n",
      "\n",
      "----North Toronto West----\n",
      "                 venue  freq\n",
      "0          Coffee Shop  0.11\n",
      "1       Clothing Store  0.11\n",
      "2          Yoga Studio  0.06\n",
      "3                  Spa  0.06\n",
      "4  Sporting Goods Shop  0.06\n",
      "\n",
      "\n",
      "----Northwood Park, York University----\n",
      "                  venue  freq\n",
      "0  Caribbean Restaurant   0.2\n",
      "1         Metro Station   0.2\n",
      "2           Coffee Shop   0.2\n",
      "3                   Bar   0.2\n",
      "4        Massage Studio   0.2\n",
      "\n",
      "\n",
      "----Old Mill South, King's Mill Park, Sunnylea, Humber Bay, Mimico NE, The Queensway East, Royal York South East, Kingsway Park South East----\n",
      "                venue  freq\n",
      "0      Baseball Field   0.5\n",
      "1           Locksmith   0.5\n",
      "2         Yoga Studio   0.0\n",
      "3  Mexican Restaurant   0.0\n",
      "4       Metro Station   0.0\n",
      "\n",
      "\n",
      "----Parkdale, Roncesvalles----\n",
      "                         venue  freq\n",
      "0                    Gift Shop  0.15\n",
      "1                   Restaurant  0.08\n",
      "2             Cuban Restaurant  0.08\n",
      "3               Breakfast Spot  0.08\n",
      "4  Eastern European Restaurant  0.08\n",
      "\n",
      "\n",
      "----Parkview Hill, Woodbine Gardens----\n",
      "                  venue  freq\n",
      "0           Pizza Place  0.17\n",
      "1  Fast Food Restaurant  0.08\n",
      "2                  Bank  0.08\n",
      "3        Breakfast Spot  0.08\n",
      "4                  Café  0.08\n",
      "\n",
      "\n",
      "----Parkwoods----\n",
      "                venue  freq\n",
      "0                Park   0.5\n",
      "1   Food & Drink Shop   0.5\n",
      "2      Massage Studio   0.0\n",
      "3  Mexican Restaurant   0.0\n",
      "4       Metro Station   0.0\n",
      "\n",
      "\n",
      "----Queen's Park / Ontario Provincial Government----\n",
      "                 venue  freq\n",
      "0          Coffee Shop  0.22\n",
      "1                 Park  0.05\n",
      "2          Yoga Studio  0.02\n",
      "3  Fried Chicken Joint  0.02\n",
      "4                 Bank  0.02\n",
      "\n",
      "\n",
      "----Regent Park, Harbourfront----\n",
      "         venue  freq\n",
      "0  Coffee Shop  0.17\n",
      "1         Park  0.06\n",
      "2       Bakery  0.06\n",
      "3          Pub  0.06\n",
      "4         Café  0.04\n",
      "\n",
      "\n",
      "----Richmond, Adelaide, King----\n",
      "             venue  freq\n",
      "0      Coffee Shop  0.07\n",
      "1       Restaurant  0.05\n",
      "2             Café  0.04\n",
      "3  Thai Restaurant  0.04\n",
      "4              Bar  0.03\n",
      "\n",
      "\n",
      "----Rosedale----\n",
      "                venue  freq\n",
      "0                Park  0.50\n",
      "1          Playground  0.25\n",
      "2               Trail  0.25\n",
      "3         Yoga Studio  0.00\n",
      "4  Mac & Cheese Joint  0.00\n",
      "\n",
      "\n",
      "----Roselawn----\n",
      "                venue  freq\n",
      "0              Garden   1.0\n",
      "1         Yoga Studio   0.0\n",
      "2      Massage Studio   0.0\n",
      "3  Mexican Restaurant   0.0\n",
      "4       Metro Station   0.0\n",
      "\n",
      "\n",
      "----Rouge Hill, Port Union, Highland Creek----\n",
      "                venue  freq\n",
      "0                 Bar   1.0\n",
      "1         Yoga Studio   0.0\n",
      "2      Massage Studio   0.0\n",
      "3  Mexican Restaurant   0.0\n",
      "4       Metro Station   0.0\n",
      "\n",
      "\n",
      "----Runnymede, Swansea----\n",
      "                venue  freq\n",
      "0                Café  0.08\n",
      "1         Coffee Shop  0.08\n",
      "2         Pizza Place  0.08\n",
      "3    Sushi Restaurant  0.05\n",
      "4  Italian Restaurant  0.05\n",
      "\n",
      "\n",
      "----Runnymede, The Junction North----\n",
      "               venue  freq\n",
      "0      Grocery Store  0.25\n",
      "1           Bus Line  0.25\n",
      "2  Convenience Store  0.25\n",
      "3            Brewery  0.25\n",
      "4     Medical Center  0.00\n",
      "\n",
      "\n",
      "----Scarborough Village----\n",
      "                        venue  freq\n",
      "0                  Playground   0.5\n",
      "1  Construction & Landscaping   0.5\n",
      "2                 Yoga Studio   0.0\n",
      "3                      Market   0.0\n",
      "4          Mexican Restaurant   0.0\n",
      "\n",
      "\n",
      "----South Steeles, Silverstone, Humbergate, Jamestown, Mount Olive, Beaumond Heights, Thistletown, Albion Gardens----\n",
      "                 venue  freq\n",
      "0        Grocery Store   0.2\n",
      "1  Fried Chicken Joint   0.1\n",
      "2             Pharmacy   0.1\n",
      "3          Pizza Place   0.1\n",
      "4       Discount Store   0.1\n",
      "\n",
      "\n",
      "----St. James Town----\n",
      "                venue  freq\n",
      "0         Coffee Shop  0.07\n",
      "1                Café  0.05\n",
      "2          Restaurant  0.05\n",
      "3  Italian Restaurant  0.04\n",
      "4               Hotel  0.04\n",
      "\n",
      "\n",
      "----St. James Town, Cabbagetown----\n",
      "                venue  freq\n",
      "0              Bakery  0.07\n",
      "1          Restaurant  0.07\n",
      "2         Coffee Shop  0.07\n",
      "3                Café  0.05\n",
      "4  Italian Restaurant  0.05\n",
      "\n",
      "\n",
      "----Steeles West, L'Amoreaux West----\n",
      "                  venue  freq\n",
      "0  Fast Food Restaurant  0.17\n",
      "1    Chinese Restaurant  0.17\n",
      "2         Grocery Store  0.08\n",
      "3           Coffee Shop  0.08\n",
      "4                  Bank  0.08\n",
      "\n",
      "\n",
      "----Studio District----\n",
      "                 venue  freq\n",
      "0                 Café  0.10\n",
      "1          Coffee Shop  0.08\n",
      "2              Brewery  0.05\n",
      "3               Bakery  0.05\n",
      "4  American Restaurant  0.05\n",
      "\n",
      "\n",
      "----Summerhill West, Rathnelly, South Hill, Forest Hill SE, Deer Park----\n",
      "                 venue  freq\n",
      "0          Coffee Shop  0.12\n",
      "1                  Pub  0.12\n",
      "2  American Restaurant  0.06\n",
      "3  Fried Chicken Joint  0.06\n",
      "4     Sushi Restaurant  0.06\n",
      "\n",
      "\n",
      "----The Annex, North Midtown, Yorkville----\n",
      "               venue  freq\n",
      "0               Café  0.13\n",
      "1     Sandwich Place  0.13\n",
      "2        Coffee Shop  0.09\n",
      "3       Liquor Store  0.04\n",
      "4  Indian Restaurant  0.04\n",
      "\n",
      "\n",
      "----The Beaches----\n",
      "                venue  freq\n",
      "0               Trail  0.25\n",
      "1                 Pub  0.25\n",
      "2   Health Food Store  0.25\n",
      "3         Yoga Studio  0.00\n",
      "4  Mexican Restaurant  0.00\n",
      "\n",
      "\n",
      "----The Danforth  East----\n",
      "               venue  freq\n",
      "0               Park  0.50\n",
      "1      Metro Station  0.25\n",
      "2  Convenience Store  0.25\n",
      "3       Liquor Store  0.00\n",
      "4          Locksmith  0.00\n",
      "\n",
      "\n",
      "----The Danforth West, Riverdale----\n",
      "                venue  freq\n",
      "0    Greek Restaurant  0.20\n",
      "1         Coffee Shop  0.10\n",
      "2  Italian Restaurant  0.07\n",
      "3      Ice Cream Shop  0.05\n",
      "4           Bookstore  0.05\n",
      "\n",
      "\n",
      "----The Kingsway, Montgomery Road, Old Mill North----\n",
      "                venue  freq\n",
      "0               River   0.5\n",
      "1                Park   0.5\n",
      "2              Market   0.0\n",
      "3  Mexican Restaurant   0.0\n",
      "4       Metro Station   0.0\n",
      "\n",
      "\n",
      "----Thorncliffe Park----\n",
      "               venue  freq\n",
      "0  Indian Restaurant  0.12\n",
      "1        Yoga Studio  0.06\n",
      "2               Bank  0.06\n",
      "3    Warehouse Store  0.06\n",
      "4        Supermarket  0.06\n",
      "\n",
      "\n",
      "----Toronto Dominion Centre, Design Exchange----\n",
      "                 venue  freq\n",
      "0          Coffee Shop  0.14\n",
      "1                Hotel  0.07\n",
      "2                 Café  0.07\n",
      "3           Restaurant  0.06\n",
      "4  American Restaurant  0.03\n",
      "\n",
      "\n",
      "----University of Toronto, Harbord----\n",
      "                venue  freq\n",
      "0                Café  0.14\n",
      "1          Restaurant  0.06\n",
      "2  Italian Restaurant  0.06\n",
      "3              Bakery  0.06\n",
      "4           Bookstore  0.06\n",
      "\n",
      "\n",
      "----Victoria Village----\n",
      "                        venue  freq\n",
      "0                 Coffee Shop  0.25\n",
      "1  Financial or Legal Service  0.25\n",
      "2       Portuguese Restaurant  0.25\n",
      "3                Hockey Arena  0.25\n",
      "4                 Yoga Studio  0.00\n",
      "\n",
      "\n",
      "----West Deane Park, Princess Gardens, Martin Grove, Islington, Cloverdale----\n",
      "                venue  freq\n",
      "0           Gift Shop   1.0\n",
      "1         Yoga Studio   0.0\n",
      "2              Market   0.0\n",
      "3  Mexican Restaurant   0.0\n",
      "4       Metro Station   0.0\n",
      "\n",
      "\n",
      "----Westmount----\n",
      "                       venue  freq\n",
      "0                Pizza Place  0.29\n",
      "1  Middle Eastern Restaurant  0.14\n",
      "2             Discount Store  0.14\n",
      "3                Coffee Shop  0.14\n",
      "4             Sandwich Place  0.14\n",
      "\n",
      "\n",
      "----Weston----\n",
      "                venue  freq\n",
      "0   Convenience Store   1.0\n",
      "1              Market   0.0\n",
      "2  Mexican Restaurant   0.0\n",
      "3       Metro Station   0.0\n",
      "4         Men's Store   0.0\n",
      "\n",
      "\n",
      "----Wexford, Maryvale----\n",
      "            venue  freq\n",
      "0      Smoke Shop  0.17\n",
      "1   Shopping Mall  0.17\n",
      "2          Bakery  0.17\n",
      "3  Sandwich Place  0.17\n",
      "4     Auto Garage  0.17\n",
      "\n",
      "\n",
      "----Willowdale South----\n",
      "              venue  freq\n",
      "0  Ramen Restaurant  0.09\n",
      "1    Sandwich Place  0.06\n",
      "2              Café  0.06\n",
      "3        Restaurant  0.06\n",
      "4       Coffee Shop  0.06\n",
      "\n",
      "\n",
      "----Willowdale West----\n",
      "            venue  freq\n",
      "0   Grocery Store  0.14\n",
      "1     Pizza Place  0.14\n",
      "2            Bank  0.14\n",
      "3  Discount Store  0.14\n",
      "4     Coffee Shop  0.14\n",
      "\n",
      "\n",
      "----Woburn----\n",
      "                venue  freq\n",
      "0         Coffee Shop  0.50\n",
      "1        Soccer Field  0.25\n",
      "2   Korean Restaurant  0.25\n",
      "3              Market  0.00\n",
      "4  Mexican Restaurant  0.00\n",
      "\n",
      "\n",
      "----Woodbine Heights----\n",
      "            venue  freq\n",
      "0    Skating Rink  0.29\n",
      "1            Park  0.14\n",
      "2      Beer Store  0.14\n",
      "3        Pharmacy  0.14\n",
      "4  Cosmetics Shop  0.14\n",
      "\n",
      "\n",
      "----York Mills West----\n",
      "                venue  freq\n",
      "0                Park  0.50\n",
      "1                Bank  0.25\n",
      "2   Convenience Store  0.25\n",
      "3      Massage Studio  0.00\n",
      "4  Mexican Restaurant  0.00\n",
      "\n",
      "\n",
      "----York Mills, Silver Hills----\n",
      "                       venue  freq\n",
      "0                  Cafeteria   1.0\n",
      "1             Massage Studio   0.0\n",
      "2  Middle Eastern Restaurant   0.0\n",
      "3         Mexican Restaurant   0.0\n",
      "4              Metro Station   0.0\n",
      "\n",
      "\n"
     ]
    }
   ],
   "source": [
    "num_top_venues = 5\n",
    "\n",
    "for hood in toronto_grouped['Neighborhood']:\n",
    "    print(\"----\"+hood+\"----\")\n",
    "    temp = toronto_grouped[toronto_grouped['Neighborhood'] == hood].T.reset_index()\n",
    "    temp.columns = ['venue','freq']\n",
    "    temp = temp.iloc[1:]\n",
    "    temp['freq'] = temp['freq'].astype(float)\n",
    "    temp = temp.round({'freq': 2})\n",
    "    print(temp.sort_values('freq', ascending=False).reset_index(drop=True).head(num_top_venues))\n",
    "    print('\\n')"
   ]
  },
  {
   "cell_type": "code",
   "execution_count": 29,
   "metadata": {},
   "outputs": [],
   "source": [
    "def return_most_common_venues(row, num_top_venues):\n",
    "    row_categories = row.iloc[1:]\n",
    "    row_categories_sorted = row_categories.sort_values(ascending=False)\n",
    "    \n",
    "    return row_categories_sorted.index.values[0:num_top_venues]"
   ]
  },
  {
   "cell_type": "code",
   "execution_count": 30,
   "metadata": {},
   "outputs": [
    {
     "data": {
      "text/html": [
       "<div>\n",
       "<style scoped>\n",
       "    .dataframe tbody tr th:only-of-type {\n",
       "        vertical-align: middle;\n",
       "    }\n",
       "\n",
       "    .dataframe tbody tr th {\n",
       "        vertical-align: top;\n",
       "    }\n",
       "\n",
       "    .dataframe thead th {\n",
       "        text-align: right;\n",
       "    }\n",
       "</style>\n",
       "<table border=\"1\" class=\"dataframe\">\n",
       "  <thead>\n",
       "    <tr style=\"text-align: right;\">\n",
       "      <th></th>\n",
       "      <th>Neighborhood</th>\n",
       "      <th>1st Most Common Venue</th>\n",
       "      <th>2nd Most Common Venue</th>\n",
       "      <th>3rd Most Common Venue</th>\n",
       "      <th>4th Most Common Venue</th>\n",
       "      <th>5th Most Common Venue</th>\n",
       "      <th>6th Most Common Venue</th>\n",
       "      <th>7th Most Common Venue</th>\n",
       "      <th>8th Most Common Venue</th>\n",
       "      <th>9th Most Common Venue</th>\n",
       "      <th>10th Most Common Venue</th>\n",
       "    </tr>\n",
       "  </thead>\n",
       "  <tbody>\n",
       "    <tr>\n",
       "      <th>0</th>\n",
       "      <td>Agincourt</td>\n",
       "      <td>Skating Rink</td>\n",
       "      <td>Latin American Restaurant</td>\n",
       "      <td>Clothing Store</td>\n",
       "      <td>Breakfast Spot</td>\n",
       "      <td>Lounge</td>\n",
       "      <td>Dog Run</td>\n",
       "      <td>Dessert Shop</td>\n",
       "      <td>Dim Sum Restaurant</td>\n",
       "      <td>Diner</td>\n",
       "      <td>Discount Store</td>\n",
       "    </tr>\n",
       "    <tr>\n",
       "      <th>1</th>\n",
       "      <td>Alderwood, Long Branch</td>\n",
       "      <td>Pizza Place</td>\n",
       "      <td>Skating Rink</td>\n",
       "      <td>Sandwich Place</td>\n",
       "      <td>Pool</td>\n",
       "      <td>Pharmacy</td>\n",
       "      <td>Pub</td>\n",
       "      <td>Gym</td>\n",
       "      <td>Coffee Shop</td>\n",
       "      <td>Dog Run</td>\n",
       "      <td>Distribution Center</td>\n",
       "    </tr>\n",
       "    <tr>\n",
       "      <th>2</th>\n",
       "      <td>Bathurst Manor, Wilson Heights, Downsview North</td>\n",
       "      <td>Bank</td>\n",
       "      <td>Coffee Shop</td>\n",
       "      <td>Fried Chicken Joint</td>\n",
       "      <td>Frozen Yogurt Shop</td>\n",
       "      <td>Sushi Restaurant</td>\n",
       "      <td>Ice Cream Shop</td>\n",
       "      <td>Deli / Bodega</td>\n",
       "      <td>Pizza Place</td>\n",
       "      <td>Pharmacy</td>\n",
       "      <td>Middle Eastern Restaurant</td>\n",
       "    </tr>\n",
       "    <tr>\n",
       "      <th>3</th>\n",
       "      <td>Bayview Village</td>\n",
       "      <td>Chinese Restaurant</td>\n",
       "      <td>Café</td>\n",
       "      <td>Japanese Restaurant</td>\n",
       "      <td>Bank</td>\n",
       "      <td>Women's Store</td>\n",
       "      <td>Dim Sum Restaurant</td>\n",
       "      <td>Diner</td>\n",
       "      <td>Discount Store</td>\n",
       "      <td>Distribution Center</td>\n",
       "      <td>Dog Run</td>\n",
       "    </tr>\n",
       "    <tr>\n",
       "      <th>4</th>\n",
       "      <td>Bedford Park, Lawrence Manor East</td>\n",
       "      <td>Italian Restaurant</td>\n",
       "      <td>Sandwich Place</td>\n",
       "      <td>Coffee Shop</td>\n",
       "      <td>Restaurant</td>\n",
       "      <td>Pharmacy</td>\n",
       "      <td>Juice Bar</td>\n",
       "      <td>Liquor Store</td>\n",
       "      <td>Indian Restaurant</td>\n",
       "      <td>Ice Cream Shop</td>\n",
       "      <td>Fast Food Restaurant</td>\n",
       "    </tr>\n",
       "  </tbody>\n",
       "</table>\n",
       "</div>"
      ],
      "text/plain": [
       "                                      Neighborhood 1st Most Common Venue  \\\n",
       "0                                        Agincourt          Skating Rink   \n",
       "1                           Alderwood, Long Branch           Pizza Place   \n",
       "2  Bathurst Manor, Wilson Heights, Downsview North                  Bank   \n",
       "3                                  Bayview Village    Chinese Restaurant   \n",
       "4                Bedford Park, Lawrence Manor East    Italian Restaurant   \n",
       "\n",
       "       2nd Most Common Venue 3rd Most Common Venue 4th Most Common Venue  \\\n",
       "0  Latin American Restaurant        Clothing Store        Breakfast Spot   \n",
       "1               Skating Rink        Sandwich Place                  Pool   \n",
       "2                Coffee Shop   Fried Chicken Joint    Frozen Yogurt Shop   \n",
       "3                       Café   Japanese Restaurant                  Bank   \n",
       "4             Sandwich Place           Coffee Shop            Restaurant   \n",
       "\n",
       "  5th Most Common Venue 6th Most Common Venue 7th Most Common Venue  \\\n",
       "0                Lounge               Dog Run          Dessert Shop   \n",
       "1              Pharmacy                   Pub                   Gym   \n",
       "2      Sushi Restaurant        Ice Cream Shop         Deli / Bodega   \n",
       "3         Women's Store    Dim Sum Restaurant                 Diner   \n",
       "4              Pharmacy             Juice Bar          Liquor Store   \n",
       "\n",
       "  8th Most Common Venue 9th Most Common Venue     10th Most Common Venue  \n",
       "0    Dim Sum Restaurant                 Diner             Discount Store  \n",
       "1           Coffee Shop               Dog Run        Distribution Center  \n",
       "2           Pizza Place              Pharmacy  Middle Eastern Restaurant  \n",
       "3        Discount Store   Distribution Center                    Dog Run  \n",
       "4     Indian Restaurant        Ice Cream Shop       Fast Food Restaurant  "
      ]
     },
     "execution_count": 30,
     "metadata": {},
     "output_type": "execute_result"
    }
   ],
   "source": [
    "num_top_venues = 10\n",
    "\n",
    "indicators = ['st', 'nd', 'rd']\n",
    "\n",
    "# create columns according to number of top venues\n",
    "columns = ['Neighborhood']\n",
    "for ind in np.arange(num_top_venues):\n",
    "    try:\n",
    "        columns.append('{}{} Most Common Venue'.format(ind+1, indicators[ind]))\n",
    "    except:\n",
    "        columns.append('{}th Most Common Venue'.format(ind+1))\n",
    "\n",
    "# create a new dataframe\n",
    "neighborhoods_venues_sorted = pd.DataFrame(columns=columns)\n",
    "neighborhoods_venues_sorted['Neighborhood'] = toronto_grouped['Neighborhood']\n",
    "\n",
    "for ind in np.arange(toronto_grouped.shape[0]):\n",
    "    neighborhoods_venues_sorted.iloc[ind, 1:] = return_most_common_venues(toronto_grouped.iloc[ind, :], num_top_venues)\n",
    "\n",
    "neighborhoods_venues_sorted.head()"
   ]
  },
  {
   "cell_type": "code",
   "execution_count": 31,
   "metadata": {},
   "outputs": [
    {
     "data": {
      "text/plain": [
       "array([1, 1, 1, 1, 1, 1, 1, 1, 1, 0], dtype=int32)"
      ]
     },
     "execution_count": 31,
     "metadata": {},
     "output_type": "execute_result"
    }
   ],
   "source": [
    "from sklearn.cluster import KMeans\n",
    "\n",
    "# set number of clusters\n",
    "kclusters = 5\n",
    "\n",
    "toronto_grouped_clustering = toronto_grouped.drop('Neighborhood', 1)\n",
    "\n",
    "# run k-means clustering\n",
    "kmeans = KMeans(n_clusters=kclusters, random_state=0).fit(toronto_grouped_clustering)\n",
    "\n",
    "# check cluster labels generated for each row in the dataframe\n",
    "kmeans.labels_[0:10]"
   ]
  },
  {
   "cell_type": "code",
   "execution_count": 32,
   "metadata": {},
   "outputs": [
    {
     "data": {
      "text/html": [
       "<div>\n",
       "<style scoped>\n",
       "    .dataframe tbody tr th:only-of-type {\n",
       "        vertical-align: middle;\n",
       "    }\n",
       "\n",
       "    .dataframe tbody tr th {\n",
       "        vertical-align: top;\n",
       "    }\n",
       "\n",
       "    .dataframe thead th {\n",
       "        text-align: right;\n",
       "    }\n",
       "</style>\n",
       "<table border=\"1\" class=\"dataframe\">\n",
       "  <thead>\n",
       "    <tr style=\"text-align: right;\">\n",
       "      <th></th>\n",
       "      <th>PostalCode</th>\n",
       "      <th>Borough</th>\n",
       "      <th>Neighborhood</th>\n",
       "      <th>Latitude</th>\n",
       "      <th>Longitude</th>\n",
       "      <th>Cluster Labels</th>\n",
       "      <th>1st Most Common Venue</th>\n",
       "      <th>2nd Most Common Venue</th>\n",
       "      <th>3rd Most Common Venue</th>\n",
       "      <th>4th Most Common Venue</th>\n",
       "      <th>5th Most Common Venue</th>\n",
       "      <th>6th Most Common Venue</th>\n",
       "      <th>7th Most Common Venue</th>\n",
       "      <th>8th Most Common Venue</th>\n",
       "      <th>9th Most Common Venue</th>\n",
       "      <th>10th Most Common Venue</th>\n",
       "    </tr>\n",
       "  </thead>\n",
       "  <tbody>\n",
       "    <tr>\n",
       "      <th>0</th>\n",
       "      <td>M1B</td>\n",
       "      <td>Scarborough</td>\n",
       "      <td>Malvern, Rouge</td>\n",
       "      <td>43.806686</td>\n",
       "      <td>-79.194353</td>\n",
       "      <td>4.0</td>\n",
       "      <td>Fast Food Restaurant</td>\n",
       "      <td>Women's Store</td>\n",
       "      <td>Dog Run</td>\n",
       "      <td>Department Store</td>\n",
       "      <td>Dessert Shop</td>\n",
       "      <td>Dim Sum Restaurant</td>\n",
       "      <td>Diner</td>\n",
       "      <td>Discount Store</td>\n",
       "      <td>Distribution Center</td>\n",
       "      <td>Doner Restaurant</td>\n",
       "    </tr>\n",
       "    <tr>\n",
       "      <th>1</th>\n",
       "      <td>M1C</td>\n",
       "      <td>Scarborough</td>\n",
       "      <td>Rouge Hill, Port Union, Highland Creek</td>\n",
       "      <td>43.784535</td>\n",
       "      <td>-79.160497</td>\n",
       "      <td>1.0</td>\n",
       "      <td>Bar</td>\n",
       "      <td>Women's Store</td>\n",
       "      <td>Dessert Shop</td>\n",
       "      <td>Dim Sum Restaurant</td>\n",
       "      <td>Diner</td>\n",
       "      <td>Discount Store</td>\n",
       "      <td>Distribution Center</td>\n",
       "      <td>Dog Run</td>\n",
       "      <td>Doner Restaurant</td>\n",
       "      <td>Event Space</td>\n",
       "    </tr>\n",
       "    <tr>\n",
       "      <th>2</th>\n",
       "      <td>M1E</td>\n",
       "      <td>Scarborough</td>\n",
       "      <td>Guildwood, Morningside, West Hill</td>\n",
       "      <td>43.763573</td>\n",
       "      <td>-79.188711</td>\n",
       "      <td>1.0</td>\n",
       "      <td>Medical Center</td>\n",
       "      <td>Electronics Store</td>\n",
       "      <td>Spa</td>\n",
       "      <td>Breakfast Spot</td>\n",
       "      <td>Mexican Restaurant</td>\n",
       "      <td>Intersection</td>\n",
       "      <td>Rental Car Location</td>\n",
       "      <td>Bank</td>\n",
       "      <td>Diner</td>\n",
       "      <td>Department Store</td>\n",
       "    </tr>\n",
       "    <tr>\n",
       "      <th>3</th>\n",
       "      <td>M1G</td>\n",
       "      <td>Scarborough</td>\n",
       "      <td>Woburn</td>\n",
       "      <td>43.770992</td>\n",
       "      <td>-79.216917</td>\n",
       "      <td>1.0</td>\n",
       "      <td>Coffee Shop</td>\n",
       "      <td>Korean Restaurant</td>\n",
       "      <td>Soccer Field</td>\n",
       "      <td>Doner Restaurant</td>\n",
       "      <td>Dessert Shop</td>\n",
       "      <td>Dim Sum Restaurant</td>\n",
       "      <td>Diner</td>\n",
       "      <td>Discount Store</td>\n",
       "      <td>Distribution Center</td>\n",
       "      <td>Dog Run</td>\n",
       "    </tr>\n",
       "    <tr>\n",
       "      <th>4</th>\n",
       "      <td>M1H</td>\n",
       "      <td>Scarborough</td>\n",
       "      <td>Cedarbrae</td>\n",
       "      <td>43.773136</td>\n",
       "      <td>-79.239476</td>\n",
       "      <td>1.0</td>\n",
       "      <td>Fried Chicken Joint</td>\n",
       "      <td>Bakery</td>\n",
       "      <td>Bank</td>\n",
       "      <td>Athletics &amp; Sports</td>\n",
       "      <td>Hakka Restaurant</td>\n",
       "      <td>Caribbean Restaurant</td>\n",
       "      <td>Thai Restaurant</td>\n",
       "      <td>Gas Station</td>\n",
       "      <td>Discount Store</td>\n",
       "      <td>Dessert Shop</td>\n",
       "    </tr>\n",
       "  </tbody>\n",
       "</table>\n",
       "</div>"
      ],
      "text/plain": [
       "  PostalCode      Borough                            Neighborhood   Latitude  \\\n",
       "0        M1B  Scarborough                          Malvern, Rouge  43.806686   \n",
       "1        M1C  Scarborough  Rouge Hill, Port Union, Highland Creek  43.784535   \n",
       "2        M1E  Scarborough       Guildwood, Morningside, West Hill  43.763573   \n",
       "3        M1G  Scarborough                                  Woburn  43.770992   \n",
       "4        M1H  Scarborough                               Cedarbrae  43.773136   \n",
       "\n",
       "   Longitude  Cluster Labels 1st Most Common Venue 2nd Most Common Venue  \\\n",
       "0 -79.194353             4.0  Fast Food Restaurant         Women's Store   \n",
       "1 -79.160497             1.0                   Bar         Women's Store   \n",
       "2 -79.188711             1.0        Medical Center     Electronics Store   \n",
       "3 -79.216917             1.0           Coffee Shop     Korean Restaurant   \n",
       "4 -79.239476             1.0   Fried Chicken Joint                Bakery   \n",
       "\n",
       "  3rd Most Common Venue 4th Most Common Venue 5th Most Common Venue  \\\n",
       "0               Dog Run      Department Store          Dessert Shop   \n",
       "1          Dessert Shop    Dim Sum Restaurant                 Diner   \n",
       "2                   Spa        Breakfast Spot    Mexican Restaurant   \n",
       "3          Soccer Field      Doner Restaurant          Dessert Shop   \n",
       "4                  Bank    Athletics & Sports      Hakka Restaurant   \n",
       "\n",
       "  6th Most Common Venue 7th Most Common Venue 8th Most Common Venue  \\\n",
       "0    Dim Sum Restaurant                 Diner        Discount Store   \n",
       "1        Discount Store   Distribution Center               Dog Run   \n",
       "2          Intersection   Rental Car Location                  Bank   \n",
       "3    Dim Sum Restaurant                 Diner        Discount Store   \n",
       "4  Caribbean Restaurant       Thai Restaurant           Gas Station   \n",
       "\n",
       "  9th Most Common Venue 10th Most Common Venue  \n",
       "0   Distribution Center       Doner Restaurant  \n",
       "1      Doner Restaurant            Event Space  \n",
       "2                 Diner       Department Store  \n",
       "3   Distribution Center                Dog Run  \n",
       "4        Discount Store           Dessert Shop  "
      ]
     },
     "execution_count": 32,
     "metadata": {},
     "output_type": "execute_result"
    }
   ],
   "source": [
    "# add clustering labels\n",
    "neighborhoods_venues_sorted.insert(0, 'Cluster Labels', kmeans.labels_)\n",
    "\n",
    "# merge toronto_grouped with toronto_data to add latitude/longitude for each neighborhood\n",
    "toronto_merged = geo_data.join(neighborhoods_venues_sorted.set_index('Neighborhood'), on='Neighborhood')\n",
    "\n",
    "\n",
    "\n",
    "# check the last columns!\n",
    "toronto_merged.head()"
   ]
  },
  {
   "cell_type": "code",
   "execution_count": 39,
   "metadata": {},
   "outputs": [],
   "source": [
    "from geopy.geocoders import Nominatim\n",
    "\n",
    "address = 'Toronto, ON, Canada'\n",
    "\n",
    "geolocator = Nominatim(user_agent=\"to_explorer\")\n",
    "location = geolocator.geocode(address)\n",
    "latitude = location.latitude\n",
    "longitude = location.longitude"
   ]
  },
  {
   "cell_type": "code",
   "execution_count": 40,
   "metadata": {},
   "outputs": [
    {
     "data": {
      "text/plain": [
       "<folium.features.CircleMarker at 0x1244abb90>"
      ]
     },
     "execution_count": 40,
     "metadata": {},
     "output_type": "execute_result"
    },
    {
     "data": {
      "text/plain": [
       "<folium.features.CircleMarker at 0x124509810>"
      ]
     },
     "execution_count": 40,
     "metadata": {},
     "output_type": "execute_result"
    },
    {
     "data": {
      "text/plain": [
       "<folium.features.CircleMarker at 0x1244c5950>"
      ]
     },
     "execution_count": 40,
     "metadata": {},
     "output_type": "execute_result"
    },
    {
     "data": {
      "text/plain": [
       "<folium.features.CircleMarker at 0x1244c5910>"
      ]
     },
     "execution_count": 40,
     "metadata": {},
     "output_type": "execute_result"
    },
    {
     "data": {
      "text/plain": [
       "<folium.features.CircleMarker at 0x1245097d0>"
      ]
     },
     "execution_count": 40,
     "metadata": {},
     "output_type": "execute_result"
    },
    {
     "data": {
      "text/plain": [
       "<folium.features.CircleMarker at 0x1244c3a50>"
      ]
     },
     "execution_count": 40,
     "metadata": {},
     "output_type": "execute_result"
    },
    {
     "data": {
      "text/plain": [
       "<folium.features.CircleMarker at 0x124572750>"
      ]
     },
     "execution_count": 40,
     "metadata": {},
     "output_type": "execute_result"
    },
    {
     "data": {
      "text/plain": [
       "<folium.features.CircleMarker at 0x1245851d0>"
      ]
     },
     "execution_count": 40,
     "metadata": {},
     "output_type": "execute_result"
    },
    {
     "data": {
      "text/plain": [
       "<folium.features.CircleMarker at 0x12456c5d0>"
      ]
     },
     "execution_count": 40,
     "metadata": {},
     "output_type": "execute_result"
    },
    {
     "data": {
      "text/plain": [
       "<folium.features.CircleMarker at 0x1244ab2d0>"
      ]
     },
     "execution_count": 40,
     "metadata": {},
     "output_type": "execute_result"
    },
    {
     "data": {
      "text/plain": [
       "<folium.features.CircleMarker at 0x124577710>"
      ]
     },
     "execution_count": 40,
     "metadata": {},
     "output_type": "execute_result"
    },
    {
     "data": {
      "text/plain": [
       "<folium.features.CircleMarker at 0x12456e610>"
      ]
     },
     "execution_count": 40,
     "metadata": {},
     "output_type": "execute_result"
    },
    {
     "data": {
      "text/plain": [
       "<folium.features.CircleMarker at 0x1245f9c90>"
      ]
     },
     "execution_count": 40,
     "metadata": {},
     "output_type": "execute_result"
    },
    {
     "data": {
      "text/plain": [
       "<folium.features.CircleMarker at 0x1245853d0>"
      ]
     },
     "execution_count": 40,
     "metadata": {},
     "output_type": "execute_result"
    },
    {
     "data": {
      "text/plain": [
       "<folium.features.CircleMarker at 0x12456e9d0>"
      ]
     },
     "execution_count": 40,
     "metadata": {},
     "output_type": "execute_result"
    },
    {
     "data": {
      "text/plain": [
       "<folium.features.CircleMarker at 0x12461dbd0>"
      ]
     },
     "execution_count": 40,
     "metadata": {},
     "output_type": "execute_result"
    },
    {
     "data": {
      "text/plain": [
       "<folium.features.CircleMarker at 0x1244abb10>"
      ]
     },
     "execution_count": 40,
     "metadata": {},
     "output_type": "execute_result"
    },
    {
     "data": {
      "text/plain": [
       "<folium.features.CircleMarker at 0x1245f9cd0>"
      ]
     },
     "execution_count": 40,
     "metadata": {},
     "output_type": "execute_result"
    },
    {
     "data": {
      "text/plain": [
       "<folium.features.CircleMarker at 0x1244c36d0>"
      ]
     },
     "execution_count": 40,
     "metadata": {},
     "output_type": "execute_result"
    },
    {
     "data": {
      "text/plain": [
       "<folium.features.CircleMarker at 0x1245f9a10>"
      ]
     },
     "execution_count": 40,
     "metadata": {},
     "output_type": "execute_result"
    },
    {
     "data": {
      "text/plain": [
       "<folium.features.CircleMarker at 0x124585950>"
      ]
     },
     "execution_count": 40,
     "metadata": {},
     "output_type": "execute_result"
    },
    {
     "data": {
      "text/plain": [
       "<folium.features.CircleMarker at 0x1245f9790>"
      ]
     },
     "execution_count": 40,
     "metadata": {},
     "output_type": "execute_result"
    },
    {
     "data": {
      "text/plain": [
       "<folium.features.CircleMarker at 0x124585cd0>"
      ]
     },
     "execution_count": 40,
     "metadata": {},
     "output_type": "execute_result"
    },
    {
     "data": {
      "text/plain": [
       "<folium.features.CircleMarker at 0x124585ed0>"
      ]
     },
     "execution_count": 40,
     "metadata": {},
     "output_type": "execute_result"
    },
    {
     "data": {
      "text/plain": [
       "<folium.features.CircleMarker at 0x124611750>"
      ]
     },
     "execution_count": 40,
     "metadata": {},
     "output_type": "execute_result"
    },
    {
     "data": {
      "text/plain": [
       "<folium.features.CircleMarker at 0x1245ece10>"
      ]
     },
     "execution_count": 40,
     "metadata": {},
     "output_type": "execute_result"
    },
    {
     "data": {
      "text/plain": [
       "<folium.features.CircleMarker at 0x124577a10>"
      ]
     },
     "execution_count": 40,
     "metadata": {},
     "output_type": "execute_result"
    },
    {
     "data": {
      "text/plain": [
       "<folium.features.CircleMarker at 0x12461d990>"
      ]
     },
     "execution_count": 40,
     "metadata": {},
     "output_type": "execute_result"
    },
    {
     "data": {
      "text/plain": [
       "<folium.features.CircleMarker at 0x12461d5d0>"
      ]
     },
     "execution_count": 40,
     "metadata": {},
     "output_type": "execute_result"
    },
    {
     "data": {
      "text/plain": [
       "<folium.features.CircleMarker at 0x124585690>"
      ]
     },
     "execution_count": 40,
     "metadata": {},
     "output_type": "execute_result"
    },
    {
     "data": {
      "text/plain": [
       "<folium.features.CircleMarker at 0x124571750>"
      ]
     },
     "execution_count": 40,
     "metadata": {},
     "output_type": "execute_result"
    },
    {
     "data": {
      "text/plain": [
       "<folium.features.CircleMarker at 0x124611590>"
      ]
     },
     "execution_count": 40,
     "metadata": {},
     "output_type": "execute_result"
    },
    {
     "data": {
      "text/plain": [
       "<folium.features.CircleMarker at 0x1245cdcd0>"
      ]
     },
     "execution_count": 40,
     "metadata": {},
     "output_type": "execute_result"
    },
    {
     "data": {
      "text/plain": [
       "<folium.features.CircleMarker at 0x1245dd610>"
      ]
     },
     "execution_count": 40,
     "metadata": {},
     "output_type": "execute_result"
    },
    {
     "data": {
      "text/plain": [
       "<folium.features.CircleMarker at 0x1245bd3d0>"
      ]
     },
     "execution_count": 40,
     "metadata": {},
     "output_type": "execute_result"
    },
    {
     "data": {
      "text/plain": [
       "<folium.features.CircleMarker at 0x1245f9f50>"
      ]
     },
     "execution_count": 40,
     "metadata": {},
     "output_type": "execute_result"
    },
    {
     "data": {
      "text/plain": [
       "<folium.features.CircleMarker at 0x1245ecbd0>"
      ]
     },
     "execution_count": 40,
     "metadata": {},
     "output_type": "execute_result"
    },
    {
     "data": {
      "text/plain": [
       "<folium.features.CircleMarker at 0x124577a50>"
      ]
     },
     "execution_count": 40,
     "metadata": {},
     "output_type": "execute_result"
    },
    {
     "data": {
      "text/plain": [
       "<folium.features.CircleMarker at 0x1245721d0>"
      ]
     },
     "execution_count": 40,
     "metadata": {},
     "output_type": "execute_result"
    },
    {
     "data": {
      "text/plain": [
       "<folium.features.CircleMarker at 0x124585190>"
      ]
     },
     "execution_count": 40,
     "metadata": {},
     "output_type": "execute_result"
    },
    {
     "data": {
      "text/plain": [
       "<folium.features.CircleMarker at 0x124585f50>"
      ]
     },
     "execution_count": 40,
     "metadata": {},
     "output_type": "execute_result"
    },
    {
     "data": {
      "text/plain": [
       "<folium.features.CircleMarker at 0x1245ab390>"
      ]
     },
     "execution_count": 40,
     "metadata": {},
     "output_type": "execute_result"
    },
    {
     "data": {
      "text/plain": [
       "<folium.features.CircleMarker at 0x1245ec890>"
      ]
     },
     "execution_count": 40,
     "metadata": {},
     "output_type": "execute_result"
    },
    {
     "data": {
      "text/plain": [
       "<folium.features.CircleMarker at 0x1245ecf50>"
      ]
     },
     "execution_count": 40,
     "metadata": {},
     "output_type": "execute_result"
    },
    {
     "data": {
      "text/plain": [
       "<folium.features.CircleMarker at 0x124577f50>"
      ]
     },
     "execution_count": 40,
     "metadata": {},
     "output_type": "execute_result"
    },
    {
     "data": {
      "text/plain": [
       "<folium.features.CircleMarker at 0x1246110d0>"
      ]
     },
     "execution_count": 40,
     "metadata": {},
     "output_type": "execute_result"
    },
    {
     "data": {
      "text/plain": [
       "<folium.features.CircleMarker at 0x1245ddb10>"
      ]
     },
     "execution_count": 40,
     "metadata": {},
     "output_type": "execute_result"
    },
    {
     "data": {
      "text/plain": [
       "<folium.features.CircleMarker at 0x1245d5110>"
      ]
     },
     "execution_count": 40,
     "metadata": {},
     "output_type": "execute_result"
    },
    {
     "data": {
      "text/plain": [
       "<folium.features.CircleMarker at 0x1245dd990>"
      ]
     },
     "execution_count": 40,
     "metadata": {},
     "output_type": "execute_result"
    },
    {
     "data": {
      "text/plain": [
       "<folium.features.CircleMarker at 0x1245bd6d0>"
      ]
     },
     "execution_count": 40,
     "metadata": {},
     "output_type": "execute_result"
    },
    {
     "data": {
      "text/plain": [
       "<folium.features.CircleMarker at 0x1245abdd0>"
      ]
     },
     "execution_count": 40,
     "metadata": {},
     "output_type": "execute_result"
    },
    {
     "data": {
      "text/plain": [
       "<folium.features.CircleMarker at 0x12464de10>"
      ]
     },
     "execution_count": 40,
     "metadata": {},
     "output_type": "execute_result"
    },
    {
     "data": {
      "text/plain": [
       "<folium.features.CircleMarker at 0x1245cd8d0>"
      ]
     },
     "execution_count": 40,
     "metadata": {},
     "output_type": "execute_result"
    },
    {
     "data": {
      "text/plain": [
       "<folium.features.CircleMarker at 0x124571c10>"
      ]
     },
     "execution_count": 40,
     "metadata": {},
     "output_type": "execute_result"
    },
    {
     "data": {
      "text/plain": [
       "<folium.features.CircleMarker at 0x1245dde10>"
      ]
     },
     "execution_count": 40,
     "metadata": {},
     "output_type": "execute_result"
    },
    {
     "data": {
      "text/plain": [
       "<folium.features.CircleMarker at 0x1245e0950>"
      ]
     },
     "execution_count": 40,
     "metadata": {},
     "output_type": "execute_result"
    },
    {
     "data": {
      "text/plain": [
       "<folium.features.CircleMarker at 0x124655d50>"
      ]
     },
     "execution_count": 40,
     "metadata": {},
     "output_type": "execute_result"
    },
    {
     "data": {
      "text/plain": [
       "<folium.features.CircleMarker at 0x124630290>"
      ]
     },
     "execution_count": 40,
     "metadata": {},
     "output_type": "execute_result"
    },
    {
     "data": {
      "text/plain": [
       "<folium.features.CircleMarker at 0x124655950>"
      ]
     },
     "execution_count": 40,
     "metadata": {},
     "output_type": "execute_result"
    },
    {
     "data": {
      "text/plain": [
       "<folium.features.CircleMarker at 0x124630610>"
      ]
     },
     "execution_count": 40,
     "metadata": {},
     "output_type": "execute_result"
    },
    {
     "data": {
      "text/plain": [
       "<folium.features.CircleMarker at 0x1245cdbd0>"
      ]
     },
     "execution_count": 40,
     "metadata": {},
     "output_type": "execute_result"
    },
    {
     "data": {
      "text/plain": [
       "<folium.features.CircleMarker at 0x1245ab710>"
      ]
     },
     "execution_count": 40,
     "metadata": {},
     "output_type": "execute_result"
    },
    {
     "data": {
      "text/plain": [
       "<folium.features.CircleMarker at 0x124657690>"
      ]
     },
     "execution_count": 40,
     "metadata": {},
     "output_type": "execute_result"
    },
    {
     "data": {
      "text/plain": [
       "<folium.features.CircleMarker at 0x124673490>"
      ]
     },
     "execution_count": 40,
     "metadata": {},
     "output_type": "execute_result"
    },
    {
     "data": {
      "text/plain": [
       "<folium.features.CircleMarker at 0x1245dd850>"
      ]
     },
     "execution_count": 40,
     "metadata": {},
     "output_type": "execute_result"
    },
    {
     "data": {
      "text/plain": [
       "<folium.features.CircleMarker at 0x1245cd690>"
      ]
     },
     "execution_count": 40,
     "metadata": {},
     "output_type": "execute_result"
    },
    {
     "data": {
      "text/plain": [
       "<folium.features.CircleMarker at 0x124655f10>"
      ]
     },
     "execution_count": 40,
     "metadata": {},
     "output_type": "execute_result"
    },
    {
     "data": {
      "text/plain": [
       "<folium.features.CircleMarker at 0x124657510>"
      ]
     },
     "execution_count": 40,
     "metadata": {},
     "output_type": "execute_result"
    },
    {
     "data": {
      "text/plain": [
       "<folium.features.CircleMarker at 0x124655650>"
      ]
     },
     "execution_count": 40,
     "metadata": {},
     "output_type": "execute_result"
    },
    {
     "data": {
      "text/plain": [
       "<folium.features.CircleMarker at 0x1245ab2d0>"
      ]
     },
     "execution_count": 40,
     "metadata": {},
     "output_type": "execute_result"
    },
    {
     "data": {
      "text/plain": [
       "<folium.features.CircleMarker at 0x1245cd110>"
      ]
     },
     "execution_count": 40,
     "metadata": {},
     "output_type": "execute_result"
    },
    {
     "data": {
      "text/plain": [
       "<folium.features.CircleMarker at 0x1246300d0>"
      ]
     },
     "execution_count": 40,
     "metadata": {},
     "output_type": "execute_result"
    },
    {
     "data": {
      "text/plain": [
       "<folium.features.CircleMarker at 0x12468c350>"
      ]
     },
     "execution_count": 40,
     "metadata": {},
     "output_type": "execute_result"
    },
    {
     "data": {
      "text/plain": [
       "<folium.features.CircleMarker at 0x124630e10>"
      ]
     },
     "execution_count": 40,
     "metadata": {},
     "output_type": "execute_result"
    },
    {
     "data": {
      "text/plain": [
       "<folium.features.CircleMarker at 0x1245e0e50>"
      ]
     },
     "execution_count": 40,
     "metadata": {},
     "output_type": "execute_result"
    },
    {
     "data": {
      "text/plain": [
       "<folium.features.CircleMarker at 0x12462c3d0>"
      ]
     },
     "execution_count": 40,
     "metadata": {},
     "output_type": "execute_result"
    },
    {
     "data": {
      "text/plain": [
       "<folium.features.CircleMarker at 0x12468cf50>"
      ]
     },
     "execution_count": 40,
     "metadata": {},
     "output_type": "execute_result"
    },
    {
     "data": {
      "text/plain": [
       "<folium.features.CircleMarker at 0x124689d50>"
      ]
     },
     "execution_count": 40,
     "metadata": {},
     "output_type": "execute_result"
    },
    {
     "data": {
      "text/plain": [
       "<folium.features.CircleMarker at 0x124687550>"
      ]
     },
     "execution_count": 40,
     "metadata": {},
     "output_type": "execute_result"
    },
    {
     "data": {
      "text/plain": [
       "<folium.features.CircleMarker at 0x124663990>"
      ]
     },
     "execution_count": 40,
     "metadata": {},
     "output_type": "execute_result"
    },
    {
     "data": {
      "text/plain": [
       "<folium.features.CircleMarker at 0x124663a10>"
      ]
     },
     "execution_count": 40,
     "metadata": {},
     "output_type": "execute_result"
    },
    {
     "data": {
      "text/plain": [
       "<folium.features.CircleMarker at 0x124657d50>"
      ]
     },
     "execution_count": 40,
     "metadata": {},
     "output_type": "execute_result"
    },
    {
     "data": {
      "text/plain": [
       "<folium.features.CircleMarker at 0x124663790>"
      ]
     },
     "execution_count": 40,
     "metadata": {},
     "output_type": "execute_result"
    },
    {
     "data": {
      "text/plain": [
       "<folium.features.CircleMarker at 0x1246a1bd0>"
      ]
     },
     "execution_count": 40,
     "metadata": {},
     "output_type": "execute_result"
    },
    {
     "data": {
      "text/plain": [
       "<folium.features.CircleMarker at 0x124673690>"
      ]
     },
     "execution_count": 40,
     "metadata": {},
     "output_type": "execute_result"
    },
    {
     "data": {
      "text/plain": [
       "<folium.features.CircleMarker at 0x1246b6c50>"
      ]
     },
     "execution_count": 40,
     "metadata": {},
     "output_type": "execute_result"
    },
    {
     "data": {
      "text/plain": [
       "<folium.features.CircleMarker at 0x1246a92d0>"
      ]
     },
     "execution_count": 40,
     "metadata": {},
     "output_type": "execute_result"
    },
    {
     "data": {
      "text/plain": [
       "<folium.features.CircleMarker at 0x124687850>"
      ]
     },
     "execution_count": 40,
     "metadata": {},
     "output_type": "execute_result"
    },
    {
     "data": {
      "text/plain": [
       "<folium.features.CircleMarker at 0x1246a9610>"
      ]
     },
     "execution_count": 40,
     "metadata": {},
     "output_type": "execute_result"
    },
    {
     "data": {
      "text/plain": [
       "<folium.features.CircleMarker at 0x12468c850>"
      ]
     },
     "execution_count": 40,
     "metadata": {},
     "output_type": "execute_result"
    },
    {
     "data": {
      "text/plain": [
       "<folium.features.CircleMarker at 0x1246a9050>"
      ]
     },
     "execution_count": 40,
     "metadata": {},
     "output_type": "execute_result"
    },
    {
     "data": {
      "text/plain": [
       "<folium.features.CircleMarker at 0x124663a90>"
      ]
     },
     "execution_count": 40,
     "metadata": {},
     "output_type": "execute_result"
    },
    {
     "data": {
      "text/plain": [
       "<folium.features.CircleMarker at 0x1246a1250>"
      ]
     },
     "execution_count": 40,
     "metadata": {},
     "output_type": "execute_result"
    },
    {
     "data": {
      "text/plain": [
       "<folium.features.CircleMarker at 0x12468c210>"
      ]
     },
     "execution_count": 40,
     "metadata": {},
     "output_type": "execute_result"
    },
    {
     "data": {
      "text/plain": [
       "<folium.features.CircleMarker at 0x124630110>"
      ]
     },
     "execution_count": 40,
     "metadata": {},
     "output_type": "execute_result"
    },
    {
     "data": {
      "text/plain": [
       "<folium.features.CircleMarker at 0x1246305d0>"
      ]
     },
     "execution_count": 40,
     "metadata": {},
     "output_type": "execute_result"
    },
    {
     "data": {
      "text/plain": [
       "<folium.features.CircleMarker at 0x1246735d0>"
      ]
     },
     "execution_count": 40,
     "metadata": {},
     "output_type": "execute_result"
    },
    {
     "data": {
      "text/plain": [
       "<folium.features.CircleMarker at 0x1246cf410>"
      ]
     },
     "execution_count": 40,
     "metadata": {},
     "output_type": "execute_result"
    },
    {
     "data": {
      "text/plain": [
       "<folium.features.CircleMarker at 0x1246a14d0>"
      ]
     },
     "execution_count": 40,
     "metadata": {},
     "output_type": "execute_result"
    },
    {
     "data": {
      "text/plain": [
       "<folium.features.CircleMarker at 0x1246cbdd0>"
      ]
     },
     "execution_count": 40,
     "metadata": {},
     "output_type": "execute_result"
    },
    {
     "data": {
      "text/plain": [
       "<folium.features.CircleMarker at 0x124687750>"
      ]
     },
     "execution_count": 40,
     "metadata": {},
     "output_type": "execute_result"
    },
    {
     "data": {
      "text/plain": [
       "<folium.features.CircleMarker at 0x124673fd0>"
      ]
     },
     "execution_count": 40,
     "metadata": {},
     "output_type": "execute_result"
    },
    {
     "data": {
      "text/plain": [
       "<folium.features.CircleMarker at 0x1246c4290>"
      ]
     },
     "execution_count": 40,
     "metadata": {},
     "output_type": "execute_result"
    },
    {
     "data": {
      "text/html": [
       "<div style=\"width:100%;\"><div style=\"position:relative;width:100%;height:0;padding-bottom:60%;\"><iframe src=\"about:blank\" style=\"position:absolute;width:100%;height:100%;left:0;top:0;border:none !important;\" data-html=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 onload=\"this.contentDocument.open();this.contentDocument.write(atob(this.getAttribute('data-html')));this.contentDocument.close();\" allowfullscreen webkitallowfullscreen mozallowfullscreen></iframe></div></div>"
      ],
      "text/plain": [
       "<folium.folium.Map at 0x124574f50>"
      ]
     },
     "execution_count": 40,
     "metadata": {},
     "output_type": "execute_result"
    }
   ],
   "source": [
    "import folium\n",
    "# create map\n",
    "map_clusters = folium.Map(location=[latitude, longitude], zoom_start=11)\n",
    "\n",
    "# set color scheme for the clusters\n",
    "x = np.arange(kclusters)\n",
    "ys = [i + x + (i*x)**2 for i in range(kclusters)]\n",
    "colors_array = cm.rainbow(np.linspace(0, 1, len(ys)))\n",
    "rainbow = [colors.rgb2hex(i) for i in colors_array]\n",
    "\n",
    "# add markers to the map\n",
    "markers_colors = []\n",
    "for lat, lon, poi, cluster in zip(toronto_merged['Latitude'], toronto_merged['Longitude'], toronto_merged['Neighborhood'], toronto_merged['Cluster Labels']):\n",
    "    label = folium.Popup(str(poi) + ' Cluster ' + str(cluster), parse_html=True)\n",
    "    folium.CircleMarker(\n",
    "        [lat, lon],\n",
    "        radius=5,\n",
    "        popup=label,\n",
    "        #color=rainbow[cluster-1],\n",
    "        fill=True,\n",
    "        #fill_color=rainbow[cluster-1],\n",
    "        fill_opacity=0.7).add_to(map_clusters)\n",
    "       \n",
    "map_clusters"
   ]
  },
  {
   "cell_type": "code",
   "execution_count": null,
   "metadata": {},
   "outputs": [],
   "source": []
  }
 ],
 "metadata": {
  "kernelspec": {
   "display_name": "Python 3",
   "language": "python",
   "name": "python3"
  },
  "language_info": {
   "codemirror_mode": {
    "name": "ipython",
    "version": 3
   },
   "file_extension": ".py",
   "mimetype": "text/x-python",
   "name": "python",
   "nbconvert_exporter": "python",
   "pygments_lexer": "ipython3",
   "version": "3.7.4"
  }
 },
 "nbformat": 4,
 "nbformat_minor": 4
}
